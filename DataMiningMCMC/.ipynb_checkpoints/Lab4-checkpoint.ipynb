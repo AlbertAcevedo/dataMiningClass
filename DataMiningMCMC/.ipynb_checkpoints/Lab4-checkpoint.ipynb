{
 "cells": [
  {
   "cell_type": "markdown",
   "metadata": {
    "collapsed": true,
    "pycharm": {
     "name": "#%% md\n"
    }
   },
   "source": [
    "<center> <b> Laboratorio 4 </b> </center>\n",
    "\n",
    "Los ejercicios están en el orden (1, 3, 2) <br>\n",
    "Primero importamos todas las librerías necesarias para este laboratorio."
   ]
  },
  {
   "cell_type": "code",
   "execution_count": 1,
   "metadata": {
    "pycharm": {
     "name": "#%%\n"
    }
   },
   "outputs": [],
   "source": [
    "import numpy as np\n",
    "import random\n",
    "import matplotlib.pyplot as plt\n",
    "import pandas as pd\n",
    "import math"
   ]
  },
  {
   "cell_type": "markdown",
   "metadata": {
    "pycharm": {
     "name": "#%% md\n"
    }
   },
   "source": [
    "<center> <b> Ejercicio # 1 </b> </center>\n",
    "\n",
    "Para el primer ejercicio lo primero es diseñar una función corta que determine si el jugador ganó basado\n",
    "en el número que recibe, si este número es >= a 52 devuelve verdarero y de lo contratio devuelve falso."
   ]
  },
  {
   "cell_type": "code",
   "execution_count": 2,
   "metadata": {
    "pycharm": {
     "name": "#%%\n"
    }
   },
   "outputs": [
    {
     "name": "stdout",
     "output_type": "stream",
     "text": [
      "False\n",
      "True\n",
      "False\n",
      "True\n"
     ]
    }
   ],
   "source": [
    "def gamewon(n):\n",
    "    return n >= 52\n",
    "\n",
    "print(gamewon(2))\n",
    "print(gamewon(100))\n",
    "print(gamewon(50))\n",
    "print(gamewon(53))"
   ]
  },
  {
   "cell_type": "markdown",
   "metadata": {
    "pycharm": {
     "name": "#%% md\n"
    }
   },
   "source": [
    "Lo siguiente es hacer una función que simule un juego, esta función tiene que recibir la cantidad de\n",
    "intentos X, el monto inicial del usuario y el monto por apuesta. Adicionalmente debe arrojar el balance final\n",
    "del usuario. En cada iteración utilizaremos la función randint para simular el número que sacó el usuario."
   ]
  },
  {
   "cell_type": "code",
   "execution_count": 3,
   "metadata": {
    "pycharm": {
     "name": "#%%\n"
    }
   },
   "outputs": [],
   "source": [
    "def game_simulation(am, bet, n):\n",
    "    states = []\n",
    "    money = am\n",
    "    won = 0\n",
    "    lost = 0\n",
    "    for i in range(0, n):\n",
    "        x = random.randint(0, 100)\n",
    "        if gamewon(x):\n",
    "            won += 1\n",
    "            money += bet\n",
    "        else:\n",
    "            lost += 1\n",
    "            money -= bet\n",
    "        states.append(money)\n",
    "    print('W-L:' + str(won) + '-' + str(lost))\n",
    "    print('Final Balance:' + str(money))\n",
    "    series = pd.Series(states)\n",
    "    series.plot()\n",
    "    plt.show()"
   ]
  },
  {
   "cell_type": "markdown",
   "metadata": {
    "pycharm": {
     "name": "#%% md\n"
    }
   },
   "source": [
    "Ya con esto podemos llamar a la función, esta nos arroja la cantidad de ganadas/perdidas de la persona,\n",
    "su balance final y un gráfico del balance de la persona a lo largo de los n intentos"
   ]
  },
  {
   "cell_type": "code",
   "execution_count": 4,
   "metadata": {
    "pycharm": {
     "name": "#%%\n"
    }
   },
   "outputs": [
    {
     "name": "stdout",
     "output_type": "stream",
     "text": [
      "W-L:43-57\n",
      "Final Balance:8600\n"
     ]
    },
    {
     "data": {
      "image/png": "[encoded data removed]",
      "text/plain": [
       "<Figure size 432x288 with 1 Axes>"
      ]
     },
     "metadata": {
      "needs_background": "light"
     },
     "output_type": "display_data"
    }
   ],
   "source": [
    "game_simulation(10000, 100, 100)"
   ]
  },
  {
   "cell_type": "markdown",
   "metadata": {
    "pycharm": {
     "name": "#%% md\n"
    }
   },
   "source": [
    "<center> <b> Ejercicio # 3 </b> </center>\n",
    "\n",
    "Para el tercer ejercicio seguiremos el código de ejemplo del Catálogo Web, haciendo los cambios necesarios."
   ]
  },
  {
   "cell_type": "code",
   "execution_count": 5,
   "metadata": {
    "pycharm": {
     "name": "#%%\n"
    }
   },
   "outputs": [],
   "source": [
    "# Definimos la función\n",
    "def gamma_s(x, b, c):\n",
    "    num = x ** (c - 1)\n",
    "    denom = math.gamma(c) * (b ** (c))\n",
    "    exp = -x/b\n",
    "    return (num / denom) ** exp\n",
    "\n",
    "\n",
    "# Reutilizamos la función random coin\n",
    "def random_coin(p):\n",
    "    unif = random.uniform(0, 1)\n",
    "    if unif >= p:\n",
    "        return False\n",
    "    else:\n",
    "        return True"
   ]
  },
  {
   "cell_type": "markdown",
   "metadata": {},
   "source": [
    "Replicamos el algoritmo de MCMC que utilizamos en el ejemplo, adaptandolo a la nueva función. <br>\n",
    "Esta vez el espacio está definido en el intervalo de 0 a 20."
   ]
  },
  {
   "cell_type": "code",
   "execution_count": 6,
   "metadata": {
    "pycharm": {
     "name": "#%%\n"
    }
   },
   "outputs": [],
   "source": [
    "def gamma_mcmc(hops, b, c):\n",
    "    states = []\n",
    "    cur = random.uniform(0, 20)\n",
    "    for i in range(0, hops):\n",
    "        states.append(cur)\n",
    "        next = random.uniform(0, 20)\n",
    "        ap = min(1, gamma_s(next, b, c)/gamma_s(cur, b, c)) # Calculate the acceptance probability\n",
    "        if random_coin(ap):\n",
    "            cur = next\n",
    "    return states[-1000:]"
   ]
  },
  {
   "cell_type": "markdown",
   "metadata": {
    "pycharm": {
     "name": "#%% md\n"
    }
   },
   "source": [
    "Una vez lista la función, ya podemos proceder a graficar. <br>\n",
    "Es importante tener en cuenta que la función está definida para c, b > 0, por lo que utilizar c, b = 0\n",
    "arroja un error."
   ]
  },
  {
   "cell_type": "code",
   "execution_count": 7,
   "metadata": {
    "pycharm": {
     "name": "#%%\n"
    }
   },
   "outputs": [
    {
     "data": {
      "image/png": "[encoded data removed]",
      "text/plain": [
       "<Figure size 432x288 with 1 Axes>"
      ]
     },
     "metadata": {
      "needs_background": "light"
     },
     "output_type": "display_data"
    }
   ],
   "source": [
    "b, c = 1, 1\n",
    "\n",
    "plt.hist(gamma_mcmc(1000, b, c),\n",
    "         density=True,\n",
    "         bins =25,\n",
    "         histtype='step',\n",
    "         label=\"Simulated_MCMC: b=\"+str(b)+\", c=\"+str(c))\n",
    "plt.legend()\n",
    "plt.show()"
   ]
  },
  {
   "cell_type": "markdown",
   "metadata": {
    "pycharm": {
     "name": "#%% md\n"
    }
   },
   "source": [
    "<center> <b> Ejercicio # 2 </b> </center>\n",
    "\n",
    "Para el segundo ejercicio seguiremos también el código de ejemplo del Catálogo Web,\n",
    "haciendo los cambios necesarios. <br>\n",
    "En este caso, ya que sólo nos interesa diferenciar entre la frase \"Thank you\" y las demás, podemos tratar a\n",
    "todas las frases que siguen con \"for\" como un mismo estado. Así tendríamos 4 estados: <br>\n",
    "* Start\n",
    "* Thank you\n",
    "* ...\n",
    "* End\n",
    "\n",
    "Definimos la matriz de estados y de transición (esta fue construida asumiendo que todas las frases\n",
    "tenían la misma probabilidad de aparecer, por lo que cada frase representa un 0.2):"
   ]
  },
  {
   "cell_type": "code",
   "execution_count": 28,
   "metadata": {
    "pycharm": {
     "name": "#%%\n"
    }
   },
   "outputs": [
    {
     "name": "stdout",
     "output_type": "stream",
     "text": [
      "Start\n"
     ]
    }
   ],
   "source": [
    "# The statespace\n",
    "states = [\"Start\",\"Thank you\",\"...\", \"End\"]\n",
    "\n",
    "# Probabilities matrix (transition matrix)\n",
    "transitionMatrix = [[0.0, 1.0, 0.0, 0.0],\n",
    "                    [0.0, 0.0, 0.8, 0.2],\n",
    "                    [0.0, 0.0, 0.0, 1.0],\n",
    "                    [0.0, 0.0, 0.0, 1.0]]\n",
    "\n",
    "print(states[0])"
   ]
  },
  {
   "cell_type": "markdown",
   "metadata": {},
   "source": [
    "Diseñamos la funcion para implementar el generador de texto. El parametro modo define si la función va a\n",
    "imprimir los resultados o a devolver el texto final."
   ]
  },
  {
   "cell_type": "code",
   "execution_count": 43,
   "metadata": {
    "pycharm": {
     "name": "#%%\n"
    }
   },
   "outputs": [],
   "source": [
    "def goodbye_generator(mode):\n",
    "    # Iniciamos una cadena vacía para guardar la frase.\n",
    "    prob = 1\n",
    "    text = ''\n",
    "    currentState = states[0]\n",
    "    while currentState != \"End\":\n",
    "        if currentState == \"Start\":\n",
    "            change = np.random.choice(states, replace=True, p=transitionMatrix[0])\n",
    "            if change == \"Thank you\":\n",
    "                prob = prob * 1\n",
    "                text += change\n",
    "                currentState = \"Thank you\"\n",
    "        elif currentState == \"Thank you\":\n",
    "            change = np.random.choice(states, replace=True, p=transitionMatrix[1])\n",
    "            if change == \"End\":\n",
    "                prob = prob * 0.2\n",
    "                currentState = \"End\"\n",
    "            elif change == \"...\":\n",
    "                prob = prob * 0.8\n",
    "                text += ' ' + change\n",
    "                currentState = \"...\"\n",
    "        elif currentState == \"...\":\n",
    "            change = np.random.choice(states, replace=True, p=transitionMatrix[2])\n",
    "            if change == \"End\":\n",
    "                prob = prob * 1\n",
    "                currentState = \"End\"\n",
    "\n",
    "    if mode == 1:\n",
    "        print(\"End Result: \" + text)\n",
    "        print(\"Probability of the possible sequence of states: \" + str(prob))\n",
    "    else:\n",
    "        return text"
   ]
  },
  {
   "cell_type": "code",
   "execution_count": 48,
   "metadata": {
    "pycharm": {
     "name": "#%%\n"
    }
   },
   "outputs": [
    {
     "name": "stdout",
     "output_type": "stream",
     "text": [
      "End Result: Thank you ...\n",
      "Probability of the possible sequence of states: 0.8\n",
      "End Result: Thank you ...\n",
      "Probability of the possible sequence of states: 0.8\n",
      "End Result: Thank you ...\n",
      "Probability of the possible sequence of states: 0.8\n",
      "End Result: Thank you ...\n",
      "Probability of the possible sequence of states: 0.8\n",
      "End Result: Thank you ...\n",
      "Probability of the possible sequence of states: 0.8\n"
     ]
    }
   ],
   "source": [
    "# Llamar a la funcion\n",
    "goodbye_generator(mode=1)\n",
    "goodbye_generator(mode=1)\n",
    "goodbye_generator(mode=1)\n",
    "goodbye_generator(mode=1)\n",
    "goodbye_generator(mode=1)"
   ]
  },
  {
   "cell_type": "markdown",
   "metadata": {
    "pycharm": {
     "name": "#%% md\n"
    }
   },
   "source": [
    "Podemos con esta función hallar la probabilidad \"observada\" haciendo 1000 simulaciones y viendo\n",
    "cuantas de estas resultan en \"Thank you\". <br>\n",
    "Para esta simulación utilizamos modo = 0, aunque como está definida la función, cualquier número <> 1\n",
    "serviría."
   ]
  },
  {
   "cell_type": "code",
   "execution_count": 49,
   "metadata": {
    "pycharm": {
     "name": "#%%\n"
    }
   },
   "outputs": [
    {
     "name": "stdout",
     "output_type": "stream",
     "text": [
      "Simulated probability: 0.215\n"
     ]
    }
   ],
   "source": [
    "ty = 0\n",
    "n = 1000\n",
    "for i in range(0, n):\n",
    "    if goodbye_generator(mode=0) == \"Thank you\":\n",
    "        ty += 1\n",
    "\n",
    "print('Simulated probability: ' + str(ty/n))\n"
   ]
  }
 ],
 "metadata": {
  "kernelspec": {
   "display_name": "Python 3",
   "language": "python",
   "name": "python3"
  },
  "language_info": {
   "codemirror_mode": {
    "name": "ipython",
    "version": 3
   },
   "file_extension": ".py",
   "mimetype": "text/x-python",
   "name": "python",
   "nbconvert_exporter": "python",
   "pygments_lexer": "ipython3",
   "version": "3.8.5"
  }
 },
 "nbformat": 4,
 "nbformat_minor": 1
}
