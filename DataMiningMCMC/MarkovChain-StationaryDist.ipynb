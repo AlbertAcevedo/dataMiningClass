{
 "cells": [
  {
   "cell_type": "code",
   "execution_count": 1,
   "metadata": {},
   "outputs": [],
   "source": [
    "#import all libraries needed\n",
    "import numpy as np\n",
    "import pandas as pd\n",
    "from random import seed\n",
    "from random import random\n",
    "import matplotlib.pyplot as plt"
   ]
  },
  {
   "cell_type": "code",
   "execution_count": 10,
   "metadata": {},
   "outputs": [],
   "source": [
    "#define transition matrix\n",
    "P = np.array([[0.6, 0.3, 0.1],\n",
    "              [0.3, 0.4, 0.3],\n",
    "              [0.2, 0.3, 0.5]])\n",
    "\n",
    "#define step-0\n",
    "state=np.array([[0.2, 0.5, 0.3]])\n",
    "stateHist=state\n",
    "dfStateHist=pd.DataFrame(state)\n",
    "distr_hist = [[0, 0, 0]]\n"
   ]
  },
  {
   "cell_type": "code",
   "execution_count": 11,
   "metadata": {},
   "outputs": [
    {
     "name": "stdout",
     "output_type": "stream",
     "text": [
      "[[0.33 0.35 0.32]]\n",
      "[[0.367 0.335 0.298]]\n",
      "[[0.3803 0.3335 0.2862]]\n",
      "[[0.38547 0.33335 0.28118]]\n",
      "[[0.387523 0.333335 0.279142]]\n",
      "[[0.3883427 0.3333335 0.2783238]]\n",
      "[[0.38867043 0.33333335 0.27799622]]\n",
      "[[0.38880151 0.33333334 0.27786516]]\n",
      "[[0.38885394 0.33333333 0.27781273]]\n",
      "[[0.38887491 0.33333333 0.27779176]]\n"
     ]
    },
    {
     "data": {
      "image/png": "[encoded data removed]",
      "text/plain": [
       "<Figure size 432x288 with 1 Axes>"
      ]
     },
     "metadata": {
      "needs_background": "light"
     },
     "output_type": "display_data"
    }
   ],
   "source": [
    "#find stationary distribution\n",
    "for x in range(10):\n",
    "  state=np.dot(state, P)\n",
    "  print(state)\n",
    "  stateHist=np.append(stateHist, state, axis=0)\n",
    "\n",
    "dfDistrHist = pd.DataFrame(stateHist)\n",
    "dfDistrHist.plot()\n",
    "plt.show()"
   ]
  },
  {
   "cell_type": "code",
   "execution_count": null,
   "outputs": [],
   "source": [],
   "metadata": {
    "collapsed": false,
    "pycharm": {
     "name": "#%%\n"
    }
   }
  },
  {
   "cell_type": "code",
   "execution_count": null,
   "metadata": {},
   "outputs": [],
   "source": []
  }
 ],
 "metadata": {
  "kernelspec": {
   "display_name": "Python 3",
   "language": "python",
   "name": "python3"
  },
  "language_info": {
   "codemirror_mode": {
    "name": "ipython",
    "version": 3
   },
   "file_extension": ".py",
   "mimetype": "text/x-python",
   "name": "python",
   "nbconvert_exporter": "python",
   "pygments_lexer": "ipython3",
   "version": "3.8.5"
  },
  "toc": {
   "base_numbering": 1,
   "nav_menu": {},
   "number_sections": true,
   "sideBar": true,
   "skip_h1_title": false,
   "title_cell": "Table of Contents",
   "title_sidebar": "Contents",
   "toc_cell": false,
   "toc_position": {},
   "toc_section_display": true,
   "toc_window_display": false
  },
  "varInspector": {
   "cols": {
    "lenName": 16,
    "lenType": 16,
    "lenVar": 40
   },
   "kernels_config": {
    "python": {
     "delete_cmd_postfix": "",
     "delete_cmd_prefix": "del ",
     "library": "var_list.py",
     "varRefreshCmd": "print(var_dic_list())"
    },
    "r": {
     "delete_cmd_postfix": ") ",
     "delete_cmd_prefix": "rm(",
     "library": "var_list.r",
     "varRefreshCmd": "cat(var_dic_list()) "
    }
   },
   "types_to_exclude": [
    "module",
    "function",
    "builtin_function_or_method",
    "instance",
    "_Feature"
   ],
   "window_display": false
  }
 },
 "nbformat": 4,
 "nbformat_minor": 4
}