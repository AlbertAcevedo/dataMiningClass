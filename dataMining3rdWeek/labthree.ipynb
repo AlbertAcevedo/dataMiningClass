{
 "cells": [
  {
   "cell_type": "markdown",
   "metadata": {
    "pycharm": {
     "name": "#%% md\n"
    }
   },
   "source": [
    "<center> <b> Aclaración <br> </center> </b>\n",
    "Algunos, si no muchos de los nombres de las variables son repetidos\n",
    "a lo largo del notebook, por lo que es necesario correr el notebook\n",
    "en orden."
   ]
  },
  {
   "cell_type": "code",
   "execution_count": 1,
   "metadata": {},
   "outputs": [],
   "source": [
    "import pandas as pd\n",
    "import numpy as np\n",
    "from matplotlib import pyplot as plt\n",
    "import seaborn as sns\n",
    "from scipy.stats import lognorm, norm\n",
    "import datetime"
   ]
  },
  {
   "cell_type": "markdown",
   "metadata": {
    "pycharm": {
     "name": "#%% md\n"
    }
   },
   "source": [
    "<center> <b> Running Data Analysis"
   ]
  },
  {
   "cell_type": "markdown",
   "metadata": {},
   "source": [
    "Lectura de datos"
   ]
  },
  {
   "cell_type": "code",
   "execution_count": 2,
   "metadata": {
    "pycharm": {
     "name": "#%%\n"
    }
   },
   "outputs": [
    {
     "data": {
      "text/html": [
       "<div>\n",
       "<style scoped>\n",
       "    .dataframe tbody tr th:only-of-type {\n",
       "        vertical-align: middle;\n",
       "    }\n",
       "\n",
       "    .dataframe tbody tr th {\n",
       "        vertical-align: top;\n",
       "    }\n",
       "\n",
       "    .dataframe thead th {\n",
       "        text-align: right;\n",
       "    }\n",
       "</style>\n",
       "<table border=\"1\" class=\"dataframe\">\n",
       "  <thead>\n",
       "    <tr style=\"text-align: right;\">\n",
       "      <th></th>\n",
       "      <th>Date</th>\n",
       "      <th>Activity Id</th>\n",
       "      <th>Type</th>\n",
       "      <th>Route Name</th>\n",
       "      <th>Distance (km)</th>\n",
       "      <th>Duration</th>\n",
       "      <th>Average Pace</th>\n",
       "      <th>Average Speed (km/h)</th>\n",
       "      <th>Calories Burned</th>\n",
       "      <th>Climb (m)</th>\n",
       "      <th>Average Heart Rate (bpm)</th>\n",
       "      <th>Friend's Tagged</th>\n",
       "      <th>Notes</th>\n",
       "      <th>GPX File</th>\n",
       "    </tr>\n",
       "  </thead>\n",
       "  <tbody>\n",
       "    <tr>\n",
       "      <th>0</th>\n",
       "      <td>11/11/2018 14:05</td>\n",
       "      <td>c9627fed-14ac-47a2-bed3-2a2630c63c15</td>\n",
       "      <td>Running</td>\n",
       "      <td>NaN</td>\n",
       "      <td>10.44</td>\n",
       "      <td>58:40:00</td>\n",
       "      <td>5:37</td>\n",
       "      <td>10.68</td>\n",
       "      <td>774.0</td>\n",
       "      <td>130</td>\n",
       "      <td>159.0</td>\n",
       "      <td>NaN</td>\n",
       "      <td>NaN</td>\n",
       "      <td>2018-11-11-140512.gpx</td>\n",
       "    </tr>\n",
       "    <tr>\n",
       "      <th>1</th>\n",
       "      <td>11/9/2018 15:02</td>\n",
       "      <td>be65818d-a801-4847-a43b-2acdf4dc70e7</td>\n",
       "      <td>Running</td>\n",
       "      <td>NaN</td>\n",
       "      <td>12.84</td>\n",
       "      <td>1:14:12</td>\n",
       "      <td>5:47</td>\n",
       "      <td>10.39</td>\n",
       "      <td>954.0</td>\n",
       "      <td>168</td>\n",
       "      <td>159.0</td>\n",
       "      <td>NaN</td>\n",
       "      <td>NaN</td>\n",
       "      <td>2018-11-09-150235.gpx</td>\n",
       "    </tr>\n",
       "    <tr>\n",
       "      <th>2</th>\n",
       "      <td>11/4/2018 16:05</td>\n",
       "      <td>c09b2f92-f855-497c-b624-c196b3ef036c</td>\n",
       "      <td>Running</td>\n",
       "      <td>NaN</td>\n",
       "      <td>13.01</td>\n",
       "      <td>1:15:16</td>\n",
       "      <td>5:47</td>\n",
       "      <td>10.37</td>\n",
       "      <td>967.0</td>\n",
       "      <td>171</td>\n",
       "      <td>155.0</td>\n",
       "      <td>NaN</td>\n",
       "      <td>NaN</td>\n",
       "      <td>2018-11-04-160500.gpx</td>\n",
       "    </tr>\n",
       "    <tr>\n",
       "      <th>3</th>\n",
       "      <td>11/1/2018 14:03</td>\n",
       "      <td>bc9b612d-3499-43ff-b82a-9b17b71b8a36</td>\n",
       "      <td>Running</td>\n",
       "      <td>NaN</td>\n",
       "      <td>12.98</td>\n",
       "      <td>1:14:25</td>\n",
       "      <td>5:44</td>\n",
       "      <td>10.47</td>\n",
       "      <td>960.0</td>\n",
       "      <td>169</td>\n",
       "      <td>158.0</td>\n",
       "      <td>NaN</td>\n",
       "      <td>NaN</td>\n",
       "      <td>2018-11-01-140358.gpx</td>\n",
       "    </tr>\n",
       "    <tr>\n",
       "      <th>4</th>\n",
       "      <td>10/27/2018 17:01</td>\n",
       "      <td>972567b2-1b0e-437c-9e82-fef8078d6438</td>\n",
       "      <td>Running</td>\n",
       "      <td>NaN</td>\n",
       "      <td>13.02</td>\n",
       "      <td>1:12:50</td>\n",
       "      <td>5:36</td>\n",
       "      <td>10.73</td>\n",
       "      <td>967.0</td>\n",
       "      <td>170</td>\n",
       "      <td>154.0</td>\n",
       "      <td>NaN</td>\n",
       "      <td>NaN</td>\n",
       "      <td>2018-10-27-170136.gpx</td>\n",
       "    </tr>\n",
       "  </tbody>\n",
       "</table>\n",
       "</div>"
      ],
      "text/plain": [
       "               Date                           Activity Id     Type Route Name  \\\n",
       "0  11/11/2018 14:05  c9627fed-14ac-47a2-bed3-2a2630c63c15  Running        NaN   \n",
       "1   11/9/2018 15:02  be65818d-a801-4847-a43b-2acdf4dc70e7  Running        NaN   \n",
       "2   11/4/2018 16:05  c09b2f92-f855-497c-b624-c196b3ef036c  Running        NaN   \n",
       "3   11/1/2018 14:03  bc9b612d-3499-43ff-b82a-9b17b71b8a36  Running        NaN   \n",
       "4  10/27/2018 17:01  972567b2-1b0e-437c-9e82-fef8078d6438  Running        NaN   \n",
       "\n",
       "   Distance (km)  Duration Average Pace  Average Speed (km/h)  \\\n",
       "0          10.44  58:40:00         5:37                 10.68   \n",
       "1          12.84   1:14:12         5:47                 10.39   \n",
       "2          13.01   1:15:16         5:47                 10.37   \n",
       "3          12.98   1:14:25         5:44                 10.47   \n",
       "4          13.02   1:12:50         5:36                 10.73   \n",
       "\n",
       "   Calories Burned  Climb (m)  Average Heart Rate (bpm)  Friend's Tagged  \\\n",
       "0            774.0        130                     159.0              NaN   \n",
       "1            954.0        168                     159.0              NaN   \n",
       "2            967.0        171                     155.0              NaN   \n",
       "3            960.0        169                     158.0              NaN   \n",
       "4            967.0        170                     154.0              NaN   \n",
       "\n",
       "  Notes               GPX File  \n",
       "0   NaN  2018-11-11-140512.gpx  \n",
       "1   NaN  2018-11-09-150235.gpx  \n",
       "2   NaN  2018-11-04-160500.gpx  \n",
       "3   NaN  2018-11-01-140358.gpx  \n",
       "4   NaN  2018-10-27-170136.gpx  "
      ]
     },
     "execution_count": 2,
     "metadata": {},
     "output_type": "execute_result"
    }
   ],
   "source": [
    "run_data = pd.read_csv('RunningData.csv')\n",
    "run_data.head(5)"
   ]
  },
  {
   "cell_type": "markdown",
   "metadata": {},
   "source": [
    "A continuación, vamos a hacer un análisis sobre la variable de interes,\n",
    "en este caso, la distancia. <br>\n",
    "Veremos el histograma con cantidades de intervalos diferentes."
   ]
  },
  {
   "cell_type": "code",
   "execution_count": 3,
   "metadata": {
    "pycharm": {
     "name": "#%%\n"
    }
   },
   "outputs": [
    {
     "data": {
      "image/png": "[encoded data removed]",
      "text/plain": [
       "<Figure size 432x288 with 1 Axes>"
      ]
     },
     "metadata": {
      "needs_background": "light"
     },
     "output_type": "display_data"
    },
    {
     "data": {
      "image/png": "[encoded data removed]",
      "text/plain": [
       "<Figure size 432x288 with 1 Axes>"
      ]
     },
     "metadata": {
      "needs_background": "light"
     },
     "output_type": "display_data"
    },
    {
     "data": {
      "image/png": "[encoded data removed]",
      "text/plain": [
       "<Figure size 432x288 with 1 Axes>"
      ]
     },
     "metadata": {
      "needs_background": "light"
     },
     "output_type": "display_data"
    },
    {
     "data": {
      "image/png": "[encoded data removed]",
      "text/plain": [
       "<Figure size 432x288 with 1 Axes>"
      ]
     },
     "metadata": {
      "needs_background": "light"
     },
     "output_type": "display_data"
    }
   ],
   "source": [
    "plt.hist(run_data['Distance (km)'], bins=10)\n",
    "plt.show()\n",
    "\n",
    "plt.hist(run_data['Distance (km)'], bins=15)\n",
    "plt.show()\n",
    "\n",
    "plt.hist(run_data['Distance (km)'], bins=20)\n",
    "plt.show()\n",
    "\n",
    "plt.hist(run_data['Distance (km)'], bins=30)\n",
    "plt.show()"
   ]
  },
  {
   "cell_type": "markdown",
   "metadata": {},
   "source": [
    "Se puede apreciar que a partir de 20 intervalos para graficar,\n",
    "se comienza a perder la continuidad de la gráfica, por lo que el\n",
    "analisis de distribución lo haremos sobre bins = 15"
   ]
  },
  {
   "cell_type": "code",
   "execution_count": 4,
   "metadata": {
    "pycharm": {
     "name": "#%%\n"
    }
   },
   "outputs": [
    {
     "data": {
      "image/png": "[encoded data removed]",
      "text/plain": [
       "<Figure size 432x288 with 1 Axes>"
      ]
     },
     "metadata": {
      "needs_background": "light"
     },
     "output_type": "display_data"
    }
   ],
   "source": [
    "plt.hist(run_data['Distance (km)'], bins=15)\n",
    "plt.show()"
   ]
  },
  {
   "cell_type": "markdown",
   "metadata": {
    "pycharm": {
     "name": "#%% md\n"
    }
   },
   "source": [
    "En este histograma se puede apreciar como la variable se comporta\n",
    "como una normal con un sesgo a la izquierda. Existe una distribución\n",
    "llamada log-normal en la que se presenta este comportamiento.\n",
    "<br>\n",
    "A continuación veremos un ejemplo de la log-normal con mu = 0 y sigma = 0.5"
   ]
  },
  {
   "cell_type": "code",
   "execution_count": 5,
   "metadata": {
    "pycharm": {
     "name": "#%%\n"
    }
   },
   "outputs": [
    {
     "data": {
      "image/png": "[encoded data removed]",
      "text/plain": [
       "<Figure size 432x288 with 1 Axes>"
      ]
     },
     "metadata": {
      "needs_background": "light"
     },
     "output_type": "display_data"
    }
   ],
   "source": [
    "mu, sigma = 0., .5\n",
    "s = np.random.lognormal(mu, sigma, 100)\n",
    "\n",
    "count, bins, ignored = plt.hist(s, 15, density=True, align='mid')\n",
    "\n",
    "x = np.linspace(min(bins), max(bins), 10000)\n",
    "pdf = (np.exp(-(np.log(x) - mu)**2 / (2 * sigma**2))\n",
    "       / (x * sigma * np.sqrt(2 * np.pi)))\n",
    "\n",
    "plt.plot(x, pdf, linewidth=2, color='r')\n",
    "plt.axis('tight')\n",
    "plt.show()"
   ]
  },
  {
   "cell_type": "markdown",
   "metadata": {},
   "source": [
    "Sería interesante ver cómo se comporta la log normal utilizando los\n",
    "valores de mu y sigma que tenemos en nuestra variable distancia <br>\n",
    "<br>\n",
    "Primero es necesario aplicar el logaritmo natural sobre la distancia\n",
    "para encontrar los valores correspondientes de mu y sigma."
   ]
  },
  {
   "cell_type": "code",
   "execution_count": 6,
   "metadata": {
    "pycharm": {
     "name": "#%%\n"
    }
   },
   "outputs": [
    {
     "name": "stdout",
     "output_type": "stream",
     "text": [
      "508\n"
     ]
    }
   ],
   "source": [
    "run_data['log_dist'] = np.log(run_data['Distance (km)'])\n",
    "\n",
    "mu = run_data['log_dist'].mean()\n",
    "sigma = run_data['log_dist'].std()\n",
    "print(len(run_data.index))"
   ]
  },
  {
   "cell_type": "code",
   "execution_count": 7,
   "metadata": {
    "pycharm": {
     "name": "#%%\n"
    }
   },
   "outputs": [
    {
     "data": {
      "image/png": "[encoded data removed]",
      "text/plain": [
       "<Figure size 432x288 with 1 Axes>"
      ]
     },
     "metadata": {
      "needs_background": "light"
     },
     "output_type": "display_data"
    }
   ],
   "source": [
    "samples = len(run_data.index)\n",
    "s = np.random.lognormal(mu, sigma, samples)\n",
    "\n",
    "count, bins, ignored = plt.hist(s, 15, density=True, align='mid')\n",
    "\n",
    "x = np.linspace(min(bins), max(bins), 10000)\n",
    "pdf = (np.exp(-(np.log(x) - mu)**2 / (2 * sigma**2))\n",
    "       / (x * sigma * np.sqrt(2 * np.pi)))\n",
    "\n",
    "plt.plot(x, pdf, linewidth=2, color='r')\n",
    "plt.axis('tight')\n",
    "plt.show()"
   ]
  },
  {
   "cell_type": "markdown",
   "metadata": {
    "pycharm": {
     "name": "#%% md\n"
    }
   },
   "source": [
    "Teniendo ya la distribución asociada a nuestra variable de interes\n",
    "podemos hacer uso de las funciones pdf y cdf que provee la libreria\n",
    "scipy"
   ]
  },
  {
   "cell_type": "code",
   "execution_count": 8,
   "metadata": {
    "pycharm": {
     "name": "#%%\n"
    }
   },
   "outputs": [
    {
     "data": {
      "text/plain": [
       "0.011478130903112244"
      ]
     },
     "execution_count": 8,
     "metadata": {},
     "output_type": "execute_result"
    }
   ],
   "source": [
    "#calcular la probabilidad de que la distancia sea 10\n",
    "lognorm(mu, sigma).pdf(10)"
   ]
  },
  {
   "cell_type": "code",
   "execution_count": 9,
   "metadata": {
    "pycharm": {
     "name": "#%%\n"
    }
   },
   "outputs": [
    {
     "data": {
      "text/plain": [
       "0.1273279186818408"
      ]
     },
     "execution_count": 9,
     "metadata": {},
     "output_type": "execute_result"
    }
   ],
   "source": [
    "#calcular la probabilidad de que la distancia sea > 15\n",
    "1 - lognorm(mu, sigma).cdf(15)"
   ]
  },
  {
   "cell_type": "markdown",
   "metadata": {},
   "source": [
    "Nótese que la manera más fácil de sacar la probablidad de que la\n",
    "distancia sea mayor a 15 es sacar el complemento y hacer 1 - el\n",
    "complemento (en este caso la funcion acumulativa de probabilidad para\n",
    "x = 15)"
   ]
  },
  {
   "cell_type": "markdown",
   "metadata": {
    "pycharm": {
     "name": "#%% md\n"
    }
   },
   "source": [
    "Para sacar el valor observado haremos un histograma para comprarar\n",
    "la distribución de los datos entre s (generado utilizando\n",
    "_np.random.lognormal_) y los valores reales."
   ]
  },
  {
   "cell_type": "code",
   "execution_count": 10,
   "metadata": {
    "pycharm": {
     "name": "#%%\n"
    }
   },
   "outputs": [
    {
     "data": {
      "image/png": "[encoded data removed]",
      "text/plain": [
       "<Figure size 432x288 with 1 Axes>"
      ]
     },
     "metadata": {
      "needs_background": "light"
     },
     "output_type": "display_data"
    }
   ],
   "source": [
    "expected = pd.DataFrame(data=s[0:],    # values   # 1st column as index\n",
    "              columns=['distance'])\n",
    "expected['mark'] = 1\n",
    "\n",
    "observed = pd.DataFrame()\n",
    "observed['distance'] = run_data['Distance (km)'].astype('float')\n",
    "observed['mark'] = 2\n",
    "\n",
    "eodf = pd.concat([expected, observed])\n",
    "plt.hist((expected['distance'], observed['distance']),\n",
    "         bins=10,\n",
    "         label=('expected', 'observed'))\n",
    "plt.legend()\n",
    "plt.show()"
   ]
  },
  {
   "cell_type": "code",
   "execution_count": 11,
   "metadata": {
    "pycharm": {
     "name": "#%%\n"
    }
   },
   "outputs": [
    {
     "data": {
      "image/png": "[encoded data removed]",
      "text/plain": [
       "<Figure size 432x288 with 1 Axes>"
      ]
     },
     "metadata": {
      "needs_background": "light"
     },
     "output_type": "display_data"
    }
   ],
   "source": [
    "sns.boxplot(x='mark', y='distance', data=eodf)\n",
    "plt.show()"
   ]
  },
  {
   "cell_type": "markdown",
   "metadata": {
    "pycharm": {
     "name": "#%% md\n"
    }
   },
   "source": [
    "Se puede apreciar que, si bien la distribución es muy parecida, la media\n",
    "de los datos observados está un poco más a la derecha y su desviación\n",
    "estándar es mucho más baja. Sin embargo, la distribución log-normal se\n",
    "asemeja mucho a la distribución de estos datos."
   ]
  },
  {
   "cell_type": "markdown",
   "metadata": {
    "pycharm": {
     "name": "#%% md\n"
    }
   },
   "source": [
    "<center> <b> Vehicle Accident Analysis"
   ]
  },
  {
   "cell_type": "code",
   "execution_count": 12,
   "metadata": {
    "pycharm": {
     "name": "#%%\n"
    }
   },
   "outputs": [
    {
     "data": {
      "text/html": [
       "<div>\n",
       "<style scoped>\n",
       "    .dataframe tbody tr th:only-of-type {\n",
       "        vertical-align: middle;\n",
       "    }\n",
       "\n",
       "    .dataframe tbody tr th {\n",
       "        vertical-align: top;\n",
       "    }\n",
       "\n",
       "    .dataframe thead th {\n",
       "        text-align: right;\n",
       "    }\n",
       "</style>\n",
       "<table border=\"1\" class=\"dataframe\">\n",
       "  <thead>\n",
       "    <tr style=\"text-align: right;\">\n",
       "      <th></th>\n",
       "      <th>FECHA_ACCIDENTE</th>\n",
       "      <th>AÑO_ACCIDENTE</th>\n",
       "      <th>MES_ACCIDENTE</th>\n",
       "      <th>DIA_ACCIDENTE</th>\n",
       "      <th>HORA_ACCIDENTE</th>\n",
       "      <th>GRAVEDAD_ACCIDENTE</th>\n",
       "      <th>CLASE_ACCIDENTE</th>\n",
       "      <th>SITIO_EXACTO_ACCIDENTE</th>\n",
       "      <th>CANT_HERIDOS_EN _SITIO_ACCIDENTE</th>\n",
       "      <th>CANT_MUERTOS_EN _SITIO_ACCIDENTE</th>\n",
       "      <th>CANTIDAD_ACCIDENTES</th>\n",
       "    </tr>\n",
       "  </thead>\n",
       "  <tbody>\n",
       "    <tr>\n",
       "      <th>0</th>\n",
       "      <td>2015-01-01</td>\n",
       "      <td>2015</td>\n",
       "      <td>1</td>\n",
       "      <td>Jue</td>\n",
       "      <td>02:10:00:PM</td>\n",
       "      <td>Con heridos</td>\n",
       "      <td>Choque</td>\n",
       "      <td>VIA 40 CON 77</td>\n",
       "      <td>1.0</td>\n",
       "      <td>NaN</td>\n",
       "      <td>1</td>\n",
       "    </tr>\n",
       "    <tr>\n",
       "      <th>1</th>\n",
       "      <td>2015-01-01</td>\n",
       "      <td>2015</td>\n",
       "      <td>1</td>\n",
       "      <td>Jue</td>\n",
       "      <td>02:15:00:PM</td>\n",
       "      <td>Solo daños</td>\n",
       "      <td>Choque</td>\n",
       "      <td>CALLE 14 CR 13</td>\n",
       "      <td>NaN</td>\n",
       "      <td>NaN</td>\n",
       "      <td>1</td>\n",
       "    </tr>\n",
       "    <tr>\n",
       "      <th>2</th>\n",
       "      <td>2015-01-01</td>\n",
       "      <td>2015</td>\n",
       "      <td>1</td>\n",
       "      <td>Jue</td>\n",
       "      <td>02:20:00:PM</td>\n",
       "      <td>Solo daños</td>\n",
       "      <td>Choque</td>\n",
       "      <td>CL 74 CR 38C</td>\n",
       "      <td>NaN</td>\n",
       "      <td>NaN</td>\n",
       "      <td>1</td>\n",
       "    </tr>\n",
       "    <tr>\n",
       "      <th>3</th>\n",
       "      <td>2015-01-01</td>\n",
       "      <td>2015</td>\n",
       "      <td>1</td>\n",
       "      <td>Jue</td>\n",
       "      <td>03:30:00:PM</td>\n",
       "      <td>Con heridos</td>\n",
       "      <td>Choque</td>\n",
       "      <td>CL 45 CR 19</td>\n",
       "      <td>2.0</td>\n",
       "      <td>NaN</td>\n",
       "      <td>1</td>\n",
       "    </tr>\n",
       "    <tr>\n",
       "      <th>4</th>\n",
       "      <td>2015-01-01</td>\n",
       "      <td>2015</td>\n",
       "      <td>1</td>\n",
       "      <td>Jue</td>\n",
       "      <td>04:20:00:AM</td>\n",
       "      <td>Solo daños</td>\n",
       "      <td>Choque</td>\n",
       "      <td>CRA 15 CLLE 21</td>\n",
       "      <td>NaN</td>\n",
       "      <td>NaN</td>\n",
       "      <td>1</td>\n",
       "    </tr>\n",
       "    <tr>\n",
       "      <th>5</th>\n",
       "      <td>2015-01-01</td>\n",
       "      <td>2015</td>\n",
       "      <td>1</td>\n",
       "      <td>Jue</td>\n",
       "      <td>04:40:00:PM</td>\n",
       "      <td>Con heridos</td>\n",
       "      <td>Choque</td>\n",
       "      <td>CRA 14 CLLE 35</td>\n",
       "      <td>2.0</td>\n",
       "      <td>NaN</td>\n",
       "      <td>1</td>\n",
       "    </tr>\n",
       "    <tr>\n",
       "      <th>6</th>\n",
       "      <td>2015-01-01</td>\n",
       "      <td>2015</td>\n",
       "      <td>1</td>\n",
       "      <td>Jue</td>\n",
       "      <td>04:50:00:PM</td>\n",
       "      <td>Con heridos</td>\n",
       "      <td>Atropello</td>\n",
       "      <td>CRA 6 CLLE 90</td>\n",
       "      <td>1.0</td>\n",
       "      <td>NaN</td>\n",
       "      <td>1</td>\n",
       "    </tr>\n",
       "    <tr>\n",
       "      <th>7</th>\n",
       "      <td>2015-01-01</td>\n",
       "      <td>2015</td>\n",
       "      <td>1</td>\n",
       "      <td>Jue</td>\n",
       "      <td>06:00:00:AM</td>\n",
       "      <td>Solo daños</td>\n",
       "      <td>Choque</td>\n",
       "      <td>CRA 6 CLLE 92</td>\n",
       "      <td>NaN</td>\n",
       "      <td>NaN</td>\n",
       "      <td>1</td>\n",
       "    </tr>\n",
       "    <tr>\n",
       "      <th>8</th>\n",
       "      <td>2015-01-01</td>\n",
       "      <td>2015</td>\n",
       "      <td>1</td>\n",
       "      <td>Jue</td>\n",
       "      <td>07:50:00:PM</td>\n",
       "      <td>Solo daños</td>\n",
       "      <td>Choque</td>\n",
       "      <td>CALLE 99 CR 56</td>\n",
       "      <td>NaN</td>\n",
       "      <td>NaN</td>\n",
       "      <td>1</td>\n",
       "    </tr>\n",
       "    <tr>\n",
       "      <th>9</th>\n",
       "      <td>2015-01-01</td>\n",
       "      <td>2015</td>\n",
       "      <td>1</td>\n",
       "      <td>Jue</td>\n",
       "      <td>09:25:00:PM</td>\n",
       "      <td>Solo daños</td>\n",
       "      <td>Choque</td>\n",
       "      <td>CL 47 CR 24</td>\n",
       "      <td>NaN</td>\n",
       "      <td>NaN</td>\n",
       "      <td>1</td>\n",
       "    </tr>\n",
       "  </tbody>\n",
       "</table>\n",
       "</div>"
      ],
      "text/plain": [
       "  FECHA_ACCIDENTE  AÑO_ACCIDENTE  MES_ACCIDENTE DIA_ACCIDENTE HORA_ACCIDENTE  \\\n",
       "0      2015-01-01           2015              1           Jue    02:10:00:PM   \n",
       "1      2015-01-01           2015              1           Jue    02:15:00:PM   \n",
       "2      2015-01-01           2015              1           Jue    02:20:00:PM   \n",
       "3      2015-01-01           2015              1           Jue    03:30:00:PM   \n",
       "4      2015-01-01           2015              1           Jue    04:20:00:AM   \n",
       "5      2015-01-01           2015              1           Jue    04:40:00:PM   \n",
       "6      2015-01-01           2015              1           Jue    04:50:00:PM   \n",
       "7      2015-01-01           2015              1           Jue    06:00:00:AM   \n",
       "8      2015-01-01           2015              1           Jue    07:50:00:PM   \n",
       "9      2015-01-01           2015              1           Jue    09:25:00:PM   \n",
       "\n",
       "  GRAVEDAD_ACCIDENTE CLASE_ACCIDENTE SITIO_EXACTO_ACCIDENTE  \\\n",
       "0        Con heridos          Choque          VIA 40 CON 77   \n",
       "1         Solo daños          Choque         CALLE 14 CR 13   \n",
       "2         Solo daños          Choque           CL 74 CR 38C   \n",
       "3        Con heridos          Choque            CL 45 CR 19   \n",
       "4         Solo daños          Choque         CRA 15 CLLE 21   \n",
       "5        Con heridos          Choque         CRA 14 CLLE 35   \n",
       "6        Con heridos       Atropello          CRA 6 CLLE 90   \n",
       "7         Solo daños          Choque          CRA 6 CLLE 92   \n",
       "8         Solo daños          Choque         CALLE 99 CR 56   \n",
       "9         Solo daños          Choque            CL 47 CR 24   \n",
       "\n",
       "   CANT_HERIDOS_EN _SITIO_ACCIDENTE  CANT_MUERTOS_EN _SITIO_ACCIDENTE  \\\n",
       "0                               1.0                               NaN   \n",
       "1                               NaN                               NaN   \n",
       "2                               NaN                               NaN   \n",
       "3                               2.0                               NaN   \n",
       "4                               NaN                               NaN   \n",
       "5                               2.0                               NaN   \n",
       "6                               1.0                               NaN   \n",
       "7                               NaN                               NaN   \n",
       "8                               NaN                               NaN   \n",
       "9                               NaN                               NaN   \n",
       "\n",
       "   CANTIDAD_ACCIDENTES  \n",
       "0                    1  \n",
       "1                    1  \n",
       "2                    1  \n",
       "3                    1  \n",
       "4                    1  \n",
       "5                    1  \n",
       "6                    1  \n",
       "7                    1  \n",
       "8                    1  \n",
       "9                    1  "
      ]
     },
     "execution_count": 12,
     "metadata": {},
     "output_type": "execute_result"
    }
   ],
   "source": [
    "veh_data = pd.read_excel('Accidentalidad_en_Barranquilla.xls')\n",
    "veh_data.head(10)"
   ]
  },
  {
   "cell_type": "markdown",
   "metadata": {},
   "source": [
    "Agrupar datos por fecha para obtener accidentes diarios"
   ]
  },
  {
   "cell_type": "code",
   "execution_count": 13,
   "metadata": {
    "pycharm": {
     "name": "#%%\n"
    }
   },
   "outputs": [
    {
     "data": {
      "text/html": [
       "<div>\n",
       "<style scoped>\n",
       "    .dataframe tbody tr th:only-of-type {\n",
       "        vertical-align: middle;\n",
       "    }\n",
       "\n",
       "    .dataframe tbody tr th {\n",
       "        vertical-align: top;\n",
       "    }\n",
       "\n",
       "    .dataframe thead th {\n",
       "        text-align: right;\n",
       "    }\n",
       "</style>\n",
       "<table border=\"1\" class=\"dataframe\">\n",
       "  <thead>\n",
       "    <tr style=\"text-align: right;\">\n",
       "      <th></th>\n",
       "      <th>FECHA_ACCIDENTE</th>\n",
       "      <th>CANTIDAD_ACCIDENTES</th>\n",
       "    </tr>\n",
       "  </thead>\n",
       "  <tbody>\n",
       "    <tr>\n",
       "      <th>0</th>\n",
       "      <td>2015-01-01</td>\n",
       "      <td>10</td>\n",
       "    </tr>\n",
       "    <tr>\n",
       "      <th>1</th>\n",
       "      <td>2015-01-02</td>\n",
       "      <td>13</td>\n",
       "    </tr>\n",
       "    <tr>\n",
       "      <th>2</th>\n",
       "      <td>2015-01-03</td>\n",
       "      <td>11</td>\n",
       "    </tr>\n",
       "    <tr>\n",
       "      <th>3</th>\n",
       "      <td>2015-01-04</td>\n",
       "      <td>7</td>\n",
       "    </tr>\n",
       "    <tr>\n",
       "      <th>4</th>\n",
       "      <td>2015-01-05</td>\n",
       "      <td>14</td>\n",
       "    </tr>\n",
       "    <tr>\n",
       "      <th>5</th>\n",
       "      <td>2015-01-06</td>\n",
       "      <td>12</td>\n",
       "    </tr>\n",
       "    <tr>\n",
       "      <th>6</th>\n",
       "      <td>2015-01-07</td>\n",
       "      <td>16</td>\n",
       "    </tr>\n",
       "    <tr>\n",
       "      <th>7</th>\n",
       "      <td>2015-01-08</td>\n",
       "      <td>14</td>\n",
       "    </tr>\n",
       "    <tr>\n",
       "      <th>8</th>\n",
       "      <td>2015-01-09</td>\n",
       "      <td>12</td>\n",
       "    </tr>\n",
       "    <tr>\n",
       "      <th>9</th>\n",
       "      <td>2015-01-10</td>\n",
       "      <td>15</td>\n",
       "    </tr>\n",
       "  </tbody>\n",
       "</table>\n",
       "</div>"
      ],
      "text/plain": [
       "  FECHA_ACCIDENTE  CANTIDAD_ACCIDENTES\n",
       "0      2015-01-01                   10\n",
       "1      2015-01-02                   13\n",
       "2      2015-01-03                   11\n",
       "3      2015-01-04                    7\n",
       "4      2015-01-05                   14\n",
       "5      2015-01-06                   12\n",
       "6      2015-01-07                   16\n",
       "7      2015-01-08                   14\n",
       "8      2015-01-09                   12\n",
       "9      2015-01-10                   15"
      ]
     },
     "execution_count": 13,
     "metadata": {},
     "output_type": "execute_result"
    }
   ],
   "source": [
    "veh_diario = veh_data.groupby(['FECHA_ACCIDENTE'])['CANTIDAD_ACCIDENTES'].sum().reset_index()\n",
    "veh_diario.head(10)"
   ]
  },
  {
   "cell_type": "markdown",
   "metadata": {},
   "source": [
    "Una vez tenemos el dataset agrupado por día, estamos en capacidad de analizar\n",
    "la distribución de esta variable."
   ]
  },
  {
   "cell_type": "code",
   "execution_count": 14,
   "metadata": {
    "pycharm": {
     "name": "#%%\n"
    }
   },
   "outputs": [
    {
     "data": {
      "image/png": "[encoded data removed]",
      "text/plain": [
       "<Figure size 432x288 with 1 Axes>"
      ]
     },
     "metadata": {
      "needs_background": "light"
     },
     "output_type": "display_data"
    }
   ],
   "source": [
    "plt.hist(veh_diario['CANTIDAD_ACCIDENTES'])\n",
    "plt.show()"
   ]
  },
  {
   "cell_type": "markdown",
   "metadata": {},
   "source": [
    "Grafiquemos entonces una distribución normal y comparémosla con esta\n",
    "distribución"
   ]
  },
  {
   "cell_type": "code",
   "execution_count": 15,
   "metadata": {
    "pycharm": {
     "name": "#%%\n"
    }
   },
   "outputs": [
    {
     "data": {
      "image/png": "[encoded data removed]",
      "text/plain": [
       "<Figure size 432x288 with 1 Axes>"
      ]
     },
     "metadata": {
      "needs_background": "light"
     },
     "output_type": "display_data"
    }
   ],
   "source": [
    "sns.distplot(veh_diario['CANTIDAD_ACCIDENTES'], bins=10)\n",
    "plt.show()"
   ]
  },
  {
   "cell_type": "code",
   "execution_count": 16,
   "metadata": {
    "pycharm": {
     "name": "#%%\n"
    }
   },
   "outputs": [
    {
     "data": {
      "image/png": "[encoded data removed]",
      "text/plain": [
       "<Figure size 432x288 with 1 Axes>"
      ]
     },
     "metadata": {
      "needs_background": "light"
     },
     "output_type": "display_data"
    }
   ],
   "source": [
    "# calcular media y desviación para los parametros de la normal\n",
    "mu = veh_diario['CANTIDAD_ACCIDENTES'].mean()\n",
    "sigma = veh_diario['CANTIDAD_ACCIDENTES'].std()\n",
    "samples = len(veh_diario.index)\n",
    "\n",
    "s = np.random.normal(mu, sigma, samples)\n",
    "\n",
    "count, bins, ignored = plt.hist(s, 30, density=True)\n",
    "plt.plot(bins, 1/(sigma * np.sqrt(2 * np.pi)) *\n",
    "               np.exp( - (bins - mu)**2 / (2 * sigma**2) ),\n",
    "         linewidth=2, color='r')\n",
    "plt.show()"
   ]
  },
  {
   "cell_type": "markdown",
   "metadata": {
    "pycharm": {
     "name": "#%% md\n"
    }
   },
   "source": [
    "Comparando las dos gráficas y con mucha más seguridad que en el\n",
    "ejercicio anterior, podemos decir que la variable de accidentes\n",
    "por día se ajusta a una distribución normal.\n",
    "<br>\n",
    "<br>\n",
    "Para hallar la probabilidad de que se den menos de 10 y más de 15\n",
    "accidentes, utilizaremos la función de probabilidad acumulada.\n",
    "<br>\n",
    "<br>\n",
    "<center> Probabilidad de que haya menos de 10 accidentes:"
   ]
  },
  {
   "cell_type": "code",
   "execution_count": 17,
   "metadata": {
    "pycharm": {
     "name": "#%%\n"
    }
   },
   "outputs": [
    {
     "data": {
      "text/plain": [
       "0.14387955715179185"
      ]
     },
     "execution_count": 17,
     "metadata": {},
     "output_type": "execute_result"
    }
   ],
   "source": [
    "norm(mu, sigma).cdf(10)"
   ]
  },
  {
   "cell_type": "markdown",
   "metadata": {},
   "source": [
    "<center> Probabilidad de que haya más de 15 accidentes:\n",
    "<br>"
   ]
  },
  {
   "cell_type": "code",
   "execution_count": 18,
   "metadata": {
    "pycharm": {
     "name": "#%%\n"
    }
   },
   "outputs": [
    {
     "data": {
      "text/plain": [
       "0.5854294789326702"
      ]
     },
     "execution_count": 18,
     "metadata": {},
     "output_type": "execute_result"
    }
   ],
   "source": [
    "1 - norm(mu, sigma).cdf(15)"
   ]
  },
  {
   "cell_type": "markdown",
   "metadata": {},
   "source": [
    "Nuevamente utilizamos el complemento pues la función acumulativa\n",
    "barre probabilidades de menor a mayor valor, por lo que no es\n",
    "posible sacarla directamente.\n",
    "<br>\n",
    "<br>\n",
    "A continuación revisaremos el valor observado vs el esperado para\n",
    "ver que tanto se ajusta a una normal."
   ]
  },
  {
   "cell_type": "code",
   "execution_count": 19,
   "metadata": {
    "pycharm": {
     "name": "#%%\n"
    }
   },
   "outputs": [
    {
     "data": {
      "image/png": "[encoded data removed]",
      "text/plain": [
       "<Figure size 432x288 with 1 Axes>"
      ]
     },
     "metadata": {
      "needs_background": "light"
     },
     "output_type": "display_data"
    }
   ],
   "source": [
    "expected = pd.DataFrame(data=s[0:],    # values   # 1st column as index\n",
    "              columns=['accidents'])\n",
    "\n",
    "observed = pd.DataFrame()\n",
    "observed['accidents'] = veh_diario['CANTIDAD_ACCIDENTES'].astype('int')\n",
    "\n",
    "eodf = pd.concat([expected, observed])\n",
    "plt.hist((expected['accidents'], observed['accidents']),\n",
    "         bins=10,\n",
    "         label=('expected', 'observed'))\n",
    "plt.legend()\n",
    "plt.show()"
   ]
  },
  {
   "cell_type": "markdown",
   "metadata": {
    "pycharm": {
     "name": "#%% md\n"
    }
   },
   "source": [
    "Podemos observar que la distribución se asemeja bastante a una\n",
    "distribución normal con media = 16.27 y desviación = 5.901"
   ]
  },
  {
   "cell_type": "markdown",
   "metadata": {
    "pycharm": {
     "name": "#%% md\n"
    }
   },
   "source": [
    "<center> Punto # 2 </center>\n",
    "La situación planteada directamente lleva a pensar en la distribución\n",
    "Poisson, pues lo que interesa es, dado una media de ocurrencia (en este\n",
    "caso la cantidad de accidentes cada 2 horas), saber que tan probale es\n",
    "que ocurran x eventos.\n"
   ]
  },
  {
   "cell_type": "code",
   "execution_count": 20,
   "metadata": {
    "pycharm": {
     "name": "#%%\n"
    }
   },
   "outputs": [
    {
     "data": {
      "text/html": [
       "<div>\n",
       "<style scoped>\n",
       "    .dataframe tbody tr th:only-of-type {\n",
       "        vertical-align: middle;\n",
       "    }\n",
       "\n",
       "    .dataframe tbody tr th {\n",
       "        vertical-align: top;\n",
       "    }\n",
       "\n",
       "    .dataframe thead th {\n",
       "        text-align: right;\n",
       "    }\n",
       "</style>\n",
       "<table border=\"1\" class=\"dataframe\">\n",
       "  <thead>\n",
       "    <tr style=\"text-align: right;\">\n",
       "      <th></th>\n",
       "      <th>FECHA_ACCIDENTE</th>\n",
       "      <th>AÑO_ACCIDENTE</th>\n",
       "      <th>MES_ACCIDENTE</th>\n",
       "      <th>DIA_ACCIDENTE</th>\n",
       "      <th>HORA_ACCIDENTE</th>\n",
       "      <th>GRAVEDAD_ACCIDENTE</th>\n",
       "      <th>CLASE_ACCIDENTE</th>\n",
       "      <th>SITIO_EXACTO_ACCIDENTE</th>\n",
       "      <th>CANT_HERIDOS_EN _SITIO_ACCIDENTE</th>\n",
       "      <th>CANT_MUERTOS_EN _SITIO_ACCIDENTE</th>\n",
       "      <th>CANTIDAD_ACCIDENTES</th>\n",
       "      <th>hour</th>\n",
       "    </tr>\n",
       "  </thead>\n",
       "  <tbody>\n",
       "    <tr>\n",
       "      <th>0</th>\n",
       "      <td>2015-01-01</td>\n",
       "      <td>2015</td>\n",
       "      <td>1</td>\n",
       "      <td>Jue</td>\n",
       "      <td>02:10:00:PM</td>\n",
       "      <td>Con heridos</td>\n",
       "      <td>Choque</td>\n",
       "      <td>VIA 40 CON 77</td>\n",
       "      <td>1.0</td>\n",
       "      <td>NaN</td>\n",
       "      <td>1</td>\n",
       "      <td>14</td>\n",
       "    </tr>\n",
       "    <tr>\n",
       "      <th>1</th>\n",
       "      <td>2015-01-01</td>\n",
       "      <td>2015</td>\n",
       "      <td>1</td>\n",
       "      <td>Jue</td>\n",
       "      <td>02:15:00:PM</td>\n",
       "      <td>Solo daños</td>\n",
       "      <td>Choque</td>\n",
       "      <td>CALLE 14 CR 13</td>\n",
       "      <td>NaN</td>\n",
       "      <td>NaN</td>\n",
       "      <td>1</td>\n",
       "      <td>14</td>\n",
       "    </tr>\n",
       "    <tr>\n",
       "      <th>2</th>\n",
       "      <td>2015-01-01</td>\n",
       "      <td>2015</td>\n",
       "      <td>1</td>\n",
       "      <td>Jue</td>\n",
       "      <td>02:20:00:PM</td>\n",
       "      <td>Solo daños</td>\n",
       "      <td>Choque</td>\n",
       "      <td>CL 74 CR 38C</td>\n",
       "      <td>NaN</td>\n",
       "      <td>NaN</td>\n",
       "      <td>1</td>\n",
       "      <td>14</td>\n",
       "    </tr>\n",
       "    <tr>\n",
       "      <th>3</th>\n",
       "      <td>2015-01-01</td>\n",
       "      <td>2015</td>\n",
       "      <td>1</td>\n",
       "      <td>Jue</td>\n",
       "      <td>03:30:00:PM</td>\n",
       "      <td>Con heridos</td>\n",
       "      <td>Choque</td>\n",
       "      <td>CL 45 CR 19</td>\n",
       "      <td>2.0</td>\n",
       "      <td>NaN</td>\n",
       "      <td>1</td>\n",
       "      <td>15</td>\n",
       "    </tr>\n",
       "    <tr>\n",
       "      <th>5</th>\n",
       "      <td>2015-01-01</td>\n",
       "      <td>2015</td>\n",
       "      <td>1</td>\n",
       "      <td>Jue</td>\n",
       "      <td>04:40:00:PM</td>\n",
       "      <td>Con heridos</td>\n",
       "      <td>Choque</td>\n",
       "      <td>CRA 14 CLLE 35</td>\n",
       "      <td>2.0</td>\n",
       "      <td>NaN</td>\n",
       "      <td>1</td>\n",
       "      <td>16</td>\n",
       "    </tr>\n",
       "    <tr>\n",
       "      <th>6</th>\n",
       "      <td>2015-01-01</td>\n",
       "      <td>2015</td>\n",
       "      <td>1</td>\n",
       "      <td>Jue</td>\n",
       "      <td>04:50:00:PM</td>\n",
       "      <td>Con heridos</td>\n",
       "      <td>Atropello</td>\n",
       "      <td>CRA 6 CLLE 90</td>\n",
       "      <td>1.0</td>\n",
       "      <td>NaN</td>\n",
       "      <td>1</td>\n",
       "      <td>16</td>\n",
       "    </tr>\n",
       "    <tr>\n",
       "      <th>7</th>\n",
       "      <td>2015-01-01</td>\n",
       "      <td>2015</td>\n",
       "      <td>1</td>\n",
       "      <td>Jue</td>\n",
       "      <td>06:00:00:AM</td>\n",
       "      <td>Solo daños</td>\n",
       "      <td>Choque</td>\n",
       "      <td>CRA 6 CLLE 92</td>\n",
       "      <td>NaN</td>\n",
       "      <td>NaN</td>\n",
       "      <td>1</td>\n",
       "      <td>6</td>\n",
       "    </tr>\n",
       "    <tr>\n",
       "      <th>10</th>\n",
       "      <td>2015-01-02</td>\n",
       "      <td>2015</td>\n",
       "      <td>1</td>\n",
       "      <td>Vie</td>\n",
       "      <td>01:00:00:PM</td>\n",
       "      <td>Solo daños</td>\n",
       "      <td>Choque</td>\n",
       "      <td>CLLE 64 CRA 44</td>\n",
       "      <td>NaN</td>\n",
       "      <td>NaN</td>\n",
       "      <td>1</td>\n",
       "      <td>13</td>\n",
       "    </tr>\n",
       "    <tr>\n",
       "      <th>11</th>\n",
       "      <td>2015-01-02</td>\n",
       "      <td>2015</td>\n",
       "      <td>1</td>\n",
       "      <td>Vie</td>\n",
       "      <td>03:10:00:PM</td>\n",
       "      <td>Solo daños</td>\n",
       "      <td>Choque</td>\n",
       "      <td>CALLE 110 CR 51B</td>\n",
       "      <td>NaN</td>\n",
       "      <td>NaN</td>\n",
       "      <td>1</td>\n",
       "      <td>15</td>\n",
       "    </tr>\n",
       "    <tr>\n",
       "      <th>12</th>\n",
       "      <td>2015-01-02</td>\n",
       "      <td>2015</td>\n",
       "      <td>1</td>\n",
       "      <td>Vie</td>\n",
       "      <td>04:00:00:PM</td>\n",
       "      <td>Solo daños</td>\n",
       "      <td>Choque</td>\n",
       "      <td>CL 80 CR 42H</td>\n",
       "      <td>NaN</td>\n",
       "      <td>NaN</td>\n",
       "      <td>1</td>\n",
       "      <td>16</td>\n",
       "    </tr>\n",
       "  </tbody>\n",
       "</table>\n",
       "</div>"
      ],
      "text/plain": [
       "   FECHA_ACCIDENTE  AÑO_ACCIDENTE  MES_ACCIDENTE DIA_ACCIDENTE HORA_ACCIDENTE  \\\n",
       "0       2015-01-01           2015              1           Jue    02:10:00:PM   \n",
       "1       2015-01-01           2015              1           Jue    02:15:00:PM   \n",
       "2       2015-01-01           2015              1           Jue    02:20:00:PM   \n",
       "3       2015-01-01           2015              1           Jue    03:30:00:PM   \n",
       "5       2015-01-01           2015              1           Jue    04:40:00:PM   \n",
       "6       2015-01-01           2015              1           Jue    04:50:00:PM   \n",
       "7       2015-01-01           2015              1           Jue    06:00:00:AM   \n",
       "10      2015-01-02           2015              1           Vie    01:00:00:PM   \n",
       "11      2015-01-02           2015              1           Vie    03:10:00:PM   \n",
       "12      2015-01-02           2015              1           Vie    04:00:00:PM   \n",
       "\n",
       "   GRAVEDAD_ACCIDENTE CLASE_ACCIDENTE SITIO_EXACTO_ACCIDENTE  \\\n",
       "0         Con heridos          Choque          VIA 40 CON 77   \n",
       "1          Solo daños          Choque         CALLE 14 CR 13   \n",
       "2          Solo daños          Choque           CL 74 CR 38C   \n",
       "3         Con heridos          Choque            CL 45 CR 19   \n",
       "5         Con heridos          Choque         CRA 14 CLLE 35   \n",
       "6         Con heridos       Atropello          CRA 6 CLLE 90   \n",
       "7          Solo daños          Choque          CRA 6 CLLE 92   \n",
       "10         Solo daños          Choque         CLLE 64 CRA 44   \n",
       "11         Solo daños          Choque       CALLE 110 CR 51B   \n",
       "12         Solo daños          Choque           CL 80 CR 42H   \n",
       "\n",
       "    CANT_HERIDOS_EN _SITIO_ACCIDENTE  CANT_MUERTOS_EN _SITIO_ACCIDENTE  \\\n",
       "0                                1.0                               NaN   \n",
       "1                                NaN                               NaN   \n",
       "2                                NaN                               NaN   \n",
       "3                                2.0                               NaN   \n",
       "5                                2.0                               NaN   \n",
       "6                                1.0                               NaN   \n",
       "7                                NaN                               NaN   \n",
       "10                               NaN                               NaN   \n",
       "11                               NaN                               NaN   \n",
       "12                               NaN                               NaN   \n",
       "\n",
       "    CANTIDAD_ACCIDENTES  hour  \n",
       "0                     1    14  \n",
       "1                     1    14  \n",
       "2                     1    14  \n",
       "3                     1    15  \n",
       "5                     1    16  \n",
       "6                     1    16  \n",
       "7                     1     6  \n",
       "10                    1    13  \n",
       "11                    1    15  \n",
       "12                    1    16  "
      ]
     },
     "execution_count": 20,
     "metadata": {},
     "output_type": "execute_result"
    }
   ],
   "source": [
    "# extraer la hora para filtrar\n",
    "veh_data['hour'] = veh_data.apply(\n",
    "    lambda x: datetime.datetime.strptime(x['HORA_ACCIDENTE'], '%I:%M:%S:%p').time().hour, axis=1)\n",
    "\n",
    "\n",
    "# filtrar que la hora esté en el intervalo semicerrado [6AM, 6PM)\n",
    "veh_data_filtered = veh_data[veh_data['hour'].apply(lambda v: 6 <= v < 18)]\n",
    "veh_data_filtered.head(10)"
   ]
  },
  {
   "cell_type": "markdown",
   "metadata": {},
   "source": [
    "Agrupar por día con el conjunto filtrado"
   ]
  },
  {
   "cell_type": "code",
   "execution_count": 21,
   "metadata": {
    "pycharm": {
     "name": "#%%\n"
    }
   },
   "outputs": [
    {
     "data": {
      "text/html": [
       "<div>\n",
       "<style scoped>\n",
       "    .dataframe tbody tr th:only-of-type {\n",
       "        vertical-align: middle;\n",
       "    }\n",
       "\n",
       "    .dataframe tbody tr th {\n",
       "        vertical-align: top;\n",
       "    }\n",
       "\n",
       "    .dataframe thead th {\n",
       "        text-align: right;\n",
       "    }\n",
       "</style>\n",
       "<table border=\"1\" class=\"dataframe\">\n",
       "  <thead>\n",
       "    <tr style=\"text-align: right;\">\n",
       "      <th></th>\n",
       "      <th>FECHA_ACCIDENTE</th>\n",
       "      <th>CANTIDAD_ACCIDENTES</th>\n",
       "    </tr>\n",
       "  </thead>\n",
       "  <tbody>\n",
       "    <tr>\n",
       "      <th>0</th>\n",
       "      <td>2015-01-01</td>\n",
       "      <td>7</td>\n",
       "    </tr>\n",
       "    <tr>\n",
       "      <th>1</th>\n",
       "      <td>2015-01-02</td>\n",
       "      <td>10</td>\n",
       "    </tr>\n",
       "    <tr>\n",
       "      <th>2</th>\n",
       "      <td>2015-01-03</td>\n",
       "      <td>8</td>\n",
       "    </tr>\n",
       "    <tr>\n",
       "      <th>3</th>\n",
       "      <td>2015-01-04</td>\n",
       "      <td>3</td>\n",
       "    </tr>\n",
       "    <tr>\n",
       "      <th>4</th>\n",
       "      <td>2015-01-05</td>\n",
       "      <td>13</td>\n",
       "    </tr>\n",
       "    <tr>\n",
       "      <th>5</th>\n",
       "      <td>2015-01-06</td>\n",
       "      <td>10</td>\n",
       "    </tr>\n",
       "    <tr>\n",
       "      <th>6</th>\n",
       "      <td>2015-01-07</td>\n",
       "      <td>14</td>\n",
       "    </tr>\n",
       "    <tr>\n",
       "      <th>7</th>\n",
       "      <td>2015-01-08</td>\n",
       "      <td>10</td>\n",
       "    </tr>\n",
       "    <tr>\n",
       "      <th>8</th>\n",
       "      <td>2015-01-09</td>\n",
       "      <td>9</td>\n",
       "    </tr>\n",
       "    <tr>\n",
       "      <th>9</th>\n",
       "      <td>2015-01-10</td>\n",
       "      <td>13</td>\n",
       "    </tr>\n",
       "  </tbody>\n",
       "</table>\n",
       "</div>"
      ],
      "text/plain": [
       "  FECHA_ACCIDENTE  CANTIDAD_ACCIDENTES\n",
       "0      2015-01-01                    7\n",
       "1      2015-01-02                   10\n",
       "2      2015-01-03                    8\n",
       "3      2015-01-04                    3\n",
       "4      2015-01-05                   13\n",
       "5      2015-01-06                   10\n",
       "6      2015-01-07                   14\n",
       "7      2015-01-08                   10\n",
       "8      2015-01-09                    9\n",
       "9      2015-01-10                   13"
      ]
     },
     "execution_count": 21,
     "metadata": {},
     "output_type": "execute_result"
    }
   ],
   "source": [
    "veh_diario_filtered = veh_data_filtered.groupby(['FECHA_ACCIDENTE'])['CANTIDAD_ACCIDENTES'].sum().reset_index()\n",
    "veh_diario_filtered.head(10)"
   ]
  },
  {
   "cell_type": "markdown",
   "metadata": {
    "pycharm": {
     "name": "#%% md\n"
    }
   },
   "source": [
    "Podemos asumir que la cantidad de accidentes que se producen cada 2\n",
    "horas es la media de este conjunto dividida entre 12 <br>\n",
    "ya que la mayoría de los accidentes se concentran en estas horas\n",
    "esto se puede comprobar ya que excluyendo 12 horas la media de\n",
    "accidentes sólo disminuyó en 4"
   ]
  },
  {
   "cell_type": "code",
   "execution_count": 22,
   "metadata": {
    "pycharm": {
     "name": "#%%\n"
    }
   },
   "outputs": [],
   "source": [
    "poisson_lambda = veh_diario_filtered['CANTIDAD_ACCIDENTES'].mean()/6"
   ]
  },
  {
   "cell_type": "markdown",
   "metadata": {},
   "source": [
    "Tenemos entonces nuestro valor esperado <br>\n",
    "\\\\[ \\lambda = 2.008 \\\\] <br>\n",
    "Procedemos a graficar la distribución derivada por ese lambda."
   ]
  },
  {
   "cell_type": "code",
   "execution_count": 23,
   "metadata": {
    "pycharm": {
     "name": "#%%\n"
    }
   },
   "outputs": [
    {
     "data": {
      "image/png": "[encoded data removed]",
      "text/plain": [
       "<Figure size 432x288 with 1 Axes>"
      ]
     },
     "metadata": {
      "needs_background": "light"
     },
     "output_type": "display_data"
    },
    {
     "data": {
      "image/png": "[encoded data removed]",
      "text/plain": [
       "<Figure size 432x288 with 1 Axes>"
      ]
     },
     "metadata": {
      "needs_background": "light"
     },
     "output_type": "display_data"
    }
   ],
   "source": [
    "s = np.random.poisson(poisson_lambda, 1000)\n",
    "\n",
    "sns.distplot(s, kde=False)\n",
    "plt.show()\n",
    "\n",
    "sns.distplot(s,  hist=False)\n",
    "plt.show()\n"
   ]
  },
  {
   "cell_type": "markdown",
   "metadata": {},
   "source": [
    "En conclusión, podemos asociar esta variable a una distribución\n",
    "Poisson donde el valor esperado es de 2 accidentes por intervalo."
   ]
  }
 ],
 "metadata": {
  "kernelspec": {
   "display_name": "Python 3",
   "language": "python",
   "name": "python3"
  },
  "language_info": {
   "codemirror_mode": {
    "name": "ipython",
    "version": 3
   },
   "file_extension": ".py",
   "mimetype": "text/x-python",
   "name": "python",
   "nbconvert_exporter": "python",
   "pygments_lexer": "ipython3",
   "version": "3.8.5"
  }
 },
 "nbformat": 4,
 "nbformat_minor": 1
}