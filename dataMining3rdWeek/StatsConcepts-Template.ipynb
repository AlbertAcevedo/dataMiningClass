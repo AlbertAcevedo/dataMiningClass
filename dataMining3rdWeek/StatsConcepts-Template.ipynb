{
 "cells": [
  {
   "cell_type": "markdown",
   "metadata": {},
   "source": [
    "# Statistical Concepts"
   ]
  },
  {
   "cell_type": "code",
   "execution_count": 1,
   "metadata": {},
   "outputs": [],
   "source": [
    "from matplotlib import pyplot as plt\n",
    "#%matplotlib inline"
   ]
  },
  {
   "cell_type": "markdown",
   "metadata": {},
   "source": [
    "## Venn Diagrams"
   ]
  },
  {
   "cell_type": "code",
   "execution_count": 3,
   "metadata": {
    "scrolled": true
   },
   "outputs": [
    {
     "data": {
      "image/png": "[encoded data removed]",
      "text/plain": [
       "<Figure size 432x288 with 1 Axes>"
      ]
     },
     "metadata": {},
     "output_type": "display_data"
    }
   ],
   "source": [
    "#Import libraries\n",
    "from matplotlib_venn import venn2 \n",
    "from matplotlib_venn import venn3\n",
    "\n",
    "#(Ab, aB, AB)\n",
    "venn2(subsets = (30, 5, 10), set_labels = ('Group A', 'Group B'))\n",
    "plt.show()"
   ]
  },
  {
   "cell_type": "markdown",
   "metadata": {},
   "source": [
    "## Factorial"
   ]
  },
  {
   "cell_type": "code",
   "execution_count": 5,
   "metadata": {},
   "outputs": [
    {
     "name": "stdout",
     "output_type": "stream",
     "text": [
      "24\n"
     ]
    }
   ],
   "source": [
    "import numpy as np\n",
    "\n",
    "a = np.math.factorial(4)\n",
    "print(a)\n"
   ]
  },
  {
   "cell_type": "markdown",
   "metadata": {},
   "source": [
    "## Permutations"
   ]
  },
  {
   "cell_type": "markdown",
   "metadata": {},
   "source": [
    "${P^n_r} = \\frac{n!}{(n-r)!}$"
   ]
  },
  {
   "cell_type": "code",
   "execution_count": null,
   "metadata": {},
   "outputs": [],
   "source": [
    "n=\n",
    "r=\n",
    "Permutations = np.math.factorial()/np.math.factorial()\n",
    "print()"
   ]
  },
  {
   "cell_type": "code",
   "execution_count": null,
   "metadata": {},
   "outputs": [],
   "source": [
    "def mypermutations():\n",
    "    Permutations = np.math.factorial()/np.math.factorial()\n",
    "    return Permutations\n",
    "\n",
    "print(mypermutations(3,2))"
   ]
  },
  {
   "cell_type": "code",
   "execution_count": 11,
   "metadata": {
    "scrolled": true
   },
   "outputs": [
    {
     "name": "stdout",
     "output_type": "stream",
     "text": [
      "(1, 2)\n",
      "(1, 3)\n",
      "(1, 4)\n",
      "(2, 1)\n",
      "(2, 3)\n",
      "(2, 4)\n",
      "(3, 1)\n",
      "(3, 2)\n",
      "(3, 4)\n",
      "(4, 1)\n",
      "(4, 2)\n",
      "(4, 3)\n"
     ]
    }
   ],
   "source": [
    "import itertools\n",
    "\n",
    "for p in itertools.permutations([1, 2, 3, 4], 2):\n",
    "    print(p)"
   ]
  },
  {
   "cell_type": "code",
   "execution_count": 5,
   "metadata": {},
   "outputs": [
    {
     "name": "stdout",
     "output_type": "stream",
     "text": [
      "24\n"
     ]
    }
   ],
   "source": [
    "print(len(list(p for p in itertools.permutations([1, 2, 3, 3], 4))))\n",
    "    "
   ]
  },
  {
   "cell_type": "code",
   "execution_count": null,
   "metadata": {
    "scrolled": true
   },
   "outputs": [],
   "source": [
    "for p in itertools.permutations(,):\n",
    "    print(p)"
   ]
  },
  {
   "cell_type": "markdown",
   "metadata": {},
   "source": [
    "## Combinations"
   ]
  },
  {
   "cell_type": "markdown",
   "metadata": {},
   "source": [
    "${C^n_r} = \\frac{n!}{r!(n-r)!}$"
   ]
  },
  {
   "cell_type": "code",
   "execution_count": 12,
   "metadata": {},
   "outputs": [
    {
     "name": "stdout",
     "output_type": "stream",
     "text": [
      "(1, 2)\n",
      "(1, 3)\n",
      "(1, 4)\n",
      "(2, 3)\n",
      "(2, 4)\n",
      "(3, 4)\n"
     ]
    }
   ],
   "source": [
    "for c in itertools.combinations([1, 2, 3, 4], 2):\n",
    "    print(c)"
   ]
  },
  {
   "cell_type": "code",
   "execution_count": null,
   "metadata": {},
   "outputs": [],
   "source": [
    "print(len(list(p for p in itertools.combinations(, ))))\n",
    "    "
   ]
  },
  {
   "cell_type": "code",
   "execution_count": null,
   "metadata": {},
   "outputs": [],
   "source": [
    "for c in itertools.combinations(, ):\n",
    "    print(c)"
   ]
  },
  {
   "cell_type": "markdown",
   "metadata": {},
   "source": [
    "# Discrete Probability Distributions"
   ]
  },
  {
   "cell_type": "markdown",
   "metadata": {},
   "source": [
    "## Uniform Distribution "
   ]
  },
  {
   "cell_type": "markdown",
   "metadata": {},
   "source": [
    "${f(x_i)} = \\frac{1}{n}$"
   ]
  },
  {
   "cell_type": "code",
   "execution_count": null,
   "metadata": {},
   "outputs": [],
   "source": [
    "#Import library\n",
    "from scipy.stats import randint\n",
    "randint.pmf(, , )"
   ]
  },
  {
   "cell_type": "code",
   "execution_count": null,
   "metadata": {},
   "outputs": [],
   "source": [
    "#Import library\n",
    "from scipy.stats import randint\n",
    "\n",
    "#Create figure\n",
    "fig, ax = plt.subplots(1, 1)\n",
    "\n",
    "#Define distribution parameters\n",
    "low, high = \n",
    "\n",
    "#Generate discrete random variables\n",
    "x = np.arange(randint.ppf(0.01, low, high), randint.ppf(0.99, low, high), step=1)\n",
    "\n",
    "#Plotting x\n",
    "ax.plot(x, randint.pmf(0.01, low, high), 'bo', ms=8, label='randint pmf')\n",
    "ax.vlines(x, 0, randint.pmf(0.01, low, high), colors='b', lw=5, alpha=0.5)\n",
    "\n",
    "#Generate random numbers and plotting\n",
    "x_rv = uniform.rvs(size=1000, loc=, scale=)\n",
    "ax.hist(, density=True, alpha=0.2)\n",
    "\n",
    "#Define legend attributes and show figure\n",
    "ax.legend(loc='best', frameon=False)\n",
    "plt.show()\n"
   ]
  },
  {
   "cell_type": "markdown",
   "metadata": {},
   "source": [
    "## Bernoulli"
   ]
  },
  {
   "cell_type": "code",
   "execution_count": null,
   "metadata": {},
   "outputs": [],
   "source": [
    "#Import library\n",
    "from scipy.stats import bernoulli\n",
    "bernoulli.pmf(, )"
   ]
  },
  {
   "cell_type": "code",
   "execution_count": null,
   "metadata": {},
   "outputs": [],
   "source": [
    "#Import library\n",
    "from scipy.stats import bernoulli\n",
    "\n",
    "#Create figure\n",
    "fig, ax = plt.subplots(1, 1)\n",
    "\n",
    "#Define distribution parameters\n",
    "p = \n",
    "\n",
    "#Generate discrete random variables\n",
    "x = np.arange(bernoulli.ppf(0.001, ),bernoulli.ppf(0.99, ))\n",
    "\n",
    "#Plotting X\n",
    "ax.plot(, bernoulli.pmf(, ), 'bo', ms=8, label='bernoulli pmf')\n",
    "ax.vlines(, 0, bernoulli.pmf(, ), colors='b', lw=5, alpha=0.5)\n",
    "\n",
    "#Generate random numbers and plotting\n",
    "#x_rv = bernoulli.rvs(, size=1000)\n",
    "#ax.hist(, density=True, alpha=0.2)\n",
    "\n",
    "#Define legend attributes and show figure\n",
    "ax.legend(loc='best', frameon=False)\n",
    "plt.show()"
   ]
  },
  {
   "cell_type": "markdown",
   "metadata": {},
   "source": [
    "## Binomial Probability Distribution"
   ]
  },
  {
   "cell_type": "markdown",
   "metadata": {},
   "source": [
    " X: the number of trials that result in a success"
   ]
  },
  {
   "cell_type": "markdown",
   "metadata": {},
   "source": [
    "$ {f(x)} = {{n}\\choose{x}} \\cdot p^xq^{n-x}$"
   ]
  },
  {
   "cell_type": "code",
   "execution_count": null,
   "metadata": {},
   "outputs": [],
   "source": [
    "#Import library\n",
    "from scipy.stats import binom\n",
    "binom.pmf(, , )"
   ]
  },
  {
   "cell_type": "code",
   "execution_count": null,
   "metadata": {
    "scrolled": true
   },
   "outputs": [],
   "source": [
    "#Import library\n",
    "from scipy.stats import binom\n",
    "\n",
    "#Create figure\n",
    "fig, ax = plt.subplots(1, 1)\n",
    "\n",
    "#Define distribution parameters\n",
    "n,p = ,\n",
    "\n",
    "#Generate discrete random variables\n",
    "x = np.arange(binom.ppf(0.01, , ),binom.ppf(0.99, , ))\n",
    "\n",
    "#Plotting X\n",
    "ax.plot(, binom.pmf(, , ), 'bo', ms=8, label='binom pmf')\n",
    "ax.vlines(, 0, binom.pmf(, , ), colors='b', lw=5, alpha=0.5)\n",
    "\n",
    "#Generate random numbers and plotting\n",
    "x_rv = binom.rvs(, , size=1000)\n",
    "ax.hist(, density=True, alpha=0.2)\n",
    "\n",
    "#Define legend attributes and show figure\n",
    "ax.legend(loc='best', frameon=False)\n",
    "plt.show()"
   ]
  },
  {
   "cell_type": "markdown",
   "metadata": {},
   "source": [
    "## Geometric Probability Distribution"
   ]
  },
  {
   "cell_type": "markdown",
   "metadata": {},
   "source": [
    "$ {f(x)} = (1-p)^{(x-1)}p$"
   ]
  },
  {
   "cell_type": "markdown",
   "metadata": {},
   "source": [
    "X: the number of trials until the first success"
   ]
  },
  {
   "cell_type": "code",
   "execution_count": null,
   "metadata": {},
   "outputs": [],
   "source": [
    "#Import library\n",
    "from scipy.stats import geom\n",
    "geom.pmf(, )"
   ]
  },
  {
   "cell_type": "code",
   "execution_count": null,
   "metadata": {},
   "outputs": [],
   "source": [
    "#Import library\n",
    "from scipy.stats import geom\n",
    "\n",
    "#Create figure\n",
    "fig, ax = plt.subplots(1, 1)\n",
    "\n",
    "#Define distribution parameters\n",
    "p = \n",
    "p1 = \n",
    "\n",
    "#Generate discrete random variables \n",
    "x = np.arange(geom.ppf(0.01, ), geom.ppf(0.99, ))\n",
    "x1 = np.arange(geom.ppf(0.01, ), geom.ppf(0.99, ))\n",
    "\n",
    "#Plotting x\n",
    "ax.plot(, geom.pmf(, ), 'bo', ms=8, label='geom pmf')\n",
    "ax.vlines(, 0, geom.pmf(, ), colors='b', lw=5, alpha=0.5)\n",
    "ax.plot(, geom.pmf(, ), 'co', ms=8, label='geom pmf')\n",
    "ax.vlines(, 0, geom.pmf(, ), colors='c', lw=5, alpha=0.5)\n",
    "\n",
    "#Generate random numbers and plotting\n",
    "x_rv = geom.rvs(, size=1000)\n",
    "ax.hist(, density=True, alpha=0.2)\n",
    "\n",
    "#Define legend attributes and show figure\n",
    "ax.legend(loc='best', frameon=False)\n",
    "plt.show()"
   ]
  },
  {
   "cell_type": "markdown",
   "metadata": {},
   "source": [
    "## Negative Binomial Probability Distribution"
   ]
  },
  {
   "cell_type": "markdown",
   "metadata": {},
   "source": [
    "$ {f(x)} = {{x-1}\\choose{r-1}} (1-p)^{x-r}p^r$"
   ]
  },
  {
   "cell_type": "markdown",
   "metadata": {},
   "source": [
    "X: the number of trials until r successes occur"
   ]
  },
  {
   "cell_type": "code",
   "execution_count": null,
   "metadata": {},
   "outputs": [],
   "source": [
    "#Import library\n",
    "from scipy.stats import nbinom\n",
    "\n",
    "nbinom.pmf(, , )"
   ]
  },
  {
   "cell_type": "code",
   "execution_count": null,
   "metadata": {
    "scrolled": true
   },
   "outputs": [],
   "source": [
    "#Import library\n",
    "from scipy.stats import nbinom\n",
    "\n",
    "#Create figure\n",
    "fig, ax = plt.subplots(1, 1)\n",
    "\n",
    "#Define distribution parameters\n",
    "n, p = \n",
    "n1, p1 = \n",
    "n2, p2 = \n",
    "\n",
    "#Generate discrete random variables\n",
    "x = np.arange(nbinom.ppf(0.01, , ),nbinom.ppf(0.99, , ))\n",
    "y = np.arange(nbinom.ppf(0.01, , ),nbinom.ppf(0.99, , ))\n",
    "z = np.arange(nbinom.ppf(0.01, , ),nbinom.ppf(0.99, , ))\n",
    "\n",
    "#Plotting x\n",
    "ax.plot(, nbinom.pmf(, , ), 'bo', ms=8, label='nbinom pmf')\n",
    "ax.plot(, nbinom.pmf(, , ), 'co', ms=8, label='nbinom pmf-2')\n",
    "ax.plot(, nbinom.pmf(, , ), 'mo', ms=8, label='nbinom pmf-3')\n",
    "ax.vlines(, 0, nbinom.pmf(, , ), colors='b', lw=5, alpha=0.5)\n",
    "ax.vlines(, 0, nbinom.pmf(, , ), colors='c', lw=5, alpha=0.5)\n",
    "ax.vlines(, 0, nbinom.pmf(, , ), colors='m', lw=5, alpha=0.5)\n",
    "\n",
    "#Generate random numbers and plotting\n",
    " = nbinom.rvs(, , size=1000)\n",
    "ax.hist(, density=True, alpha=0.2)\n",
    "\n",
    "#Define legend attributes and show figure\n",
    "ax.legend(loc='best', frameon=False)\n",
    "plt.show()"
   ]
  },
  {
   "cell_type": "markdown",
   "metadata": {},
   "source": [
    "## Hypergeometric Probability Distribution"
   ]
  },
  {
   "cell_type": "markdown",
   "metadata": {},
   "source": [
    "$ {f(x)} = \\frac{{{k}\\choose{x}} {{N-k}\\choose{n-x}}} {{N}\\choose{n}} $"
   ]
  },
  {
   "cell_type": "markdown",
   "metadata": {},
   "source": [
    "X: the number of successes in the sample"
   ]
  },
  {
   "cell_type": "code",
   "execution_count": null,
   "metadata": {},
   "outputs": [],
   "source": [
    "#Import library\n",
    "from scipy.stats import hypergeom\n",
    "hypergeom.pmf(, , , )"
   ]
  },
  {
   "cell_type": "code",
   "execution_count": null,
   "metadata": {
    "scrolled": true
   },
   "outputs": [],
   "source": [
    "#Import library\n",
    "from scipy.stats import \n",
    "\n",
    "#Create figure\n",
    "fig, ax = plt.subplots(1, 1)\n",
    "\n",
    "#Define distribution parameters\n",
    "[M, n, N] = [, , ]\n",
    "[M1, n1, N1] = [, , ]\n",
    "\n",
    "#Generate discrete random variables\n",
    "rv = hypergeom(M, n, N)\n",
    "x = np.arange(0, n+1)\n",
    "rv1 = hypergeom(M1, n1, N1)\n",
    "x1 = np.arange(0, n1+1)\n",
    "\n",
    "#Plotting x\n",
    "ax.plot(, rv.pmf(), 'bo', label='hypergeom pmf')\n",
    "ax.plot(, rv1.pmf(), 'co', label='hypergeom pmf-2')\n",
    "ax.vlines(, 0, rv.pmf(), colors='b', lw=1, alpha=0.5)\n",
    "ax.vlines(, 0, rv1.pmf(), colors='b', lw=1, alpha=0.5)\n",
    "\n",
    "#Generate random numbers and plotting\n",
    " = hypergeom.rvs(, , , size=100)\n",
    "ax.hist(, density=True, alpha=0.2)\n",
    "\n",
    "#Define legend attributes and show figure\n",
    "ax.legend(loc='best', frameon=False)\n",
    "plt.show()"
   ]
  },
  {
   "cell_type": "markdown",
   "metadata": {},
   "source": [
    "## Poisson Probability Distribution"
   ]
  },
  {
   "cell_type": "markdown",
   "metadata": {},
   "source": [
    "$ {f(x)} = \\frac{e^\\lambda \\lambda^x}{x!} $"
   ]
  },
  {
   "cell_type": "markdown",
   "metadata": {},
   "source": [
    "X: number of events in a Poisson process in a fixed interval of time"
   ]
  },
  {
   "cell_type": "code",
   "execution_count": null,
   "metadata": {},
   "outputs": [],
   "source": [
    "#Import library\n",
    "from scipy.stats import poisson\n",
    "poisson.pmf(, )"
   ]
  },
  {
   "cell_type": "code",
   "execution_count": null,
   "metadata": {
    "scrolled": true
   },
   "outputs": [],
   "source": [
    "#Import library\n",
    "from scipy.stats import \n",
    "\n",
    "#Create figure\n",
    "fig, ax = plt.subplots(1, 1)\n",
    "\n",
    "#Define distribution parameters\n",
    "mu = \n",
    "mu1 = \n",
    "\n",
    "#Generate discrete random variables\n",
    "x = np.arange(poisson.ppf(0.01, ), poisson.ppf(0.99, ))\n",
    "x1 = np.arange(poisson.ppf(0.01, ), poisson.ppf(0.99, ))\n",
    "\n",
    "#Plotting x\n",
    "ax.plot(, poisson.pmf(, ), 'bo', ms=8, label='poisson pmf')\n",
    "ax.plot(, poisson.pmf(, ), 'co', ms=8, label='poisson pmf-2')\n",
    "ax.vlines(, 0, poisson.pmf(, ), colors='b', lw=5, alpha=0.5)\n",
    "ax.vlines(, 0, poisson.pmf(, ), colors='c', lw=5, alpha=0.5)\n",
    "\n",
    "#Generate random numbers and plotting\n",
    " = poisson.rvs(, size=1000)\n",
    "ax.(, density=True, alpha=0.2)\n",
    "\n",
    "#Define legend attributes and show figure\n",
    "ax.legend(loc='best', frameon=False)\n"
   ]
  },
  {
   "cell_type": "markdown",
   "metadata": {},
   "source": [
    "# Continuous Probability Distribution"
   ]
  },
  {
   "cell_type": "code",
   "execution_count": null,
   "metadata": {},
   "outputs": [],
   "source": [
    "import matplotlib.pyplot as plt"
   ]
  },
  {
   "cell_type": "markdown",
   "metadata": {},
   "source": [
    "## Uniform Probability Distribution"
   ]
  },
  {
   "cell_type": "markdown",
   "metadata": {},
   "source": [
    "${f(x)} = \\frac{1}{(b-a)}$"
   ]
  },
  {
   "cell_type": "code",
   "execution_count": null,
   "metadata": {
    "scrolled": true
   },
   "outputs": [],
   "source": [
    "#Import library\n",
    "from scipy.stats import \n",
    "\n",
    "#Create figure\n",
    "fig, ax = plt.subplots(1, 1)\n",
    "\n",
    "#Generate discrete random variables\n",
    "x = np.linspace(uniform.ppf(0.01),uniform.ppf(0.99), )\n",
    "\n",
    "#Plotting x\n",
    "ax.plot(, uniform.pdf(),'r-', lw=5, alpha=0.6, label='uniform pdf')\n",
    "\n",
    "#Generate random numbers and plotting\n",
    " = uniform.rvs(size=1000)\n",
    "ax.hist(, density=True, histtype='stepfilled', alpha=0.2)\n",
    "\n",
    "#Define legend attributes and show figure\n",
    "ax.legend(loc='best', frameon=False)\n"
   ]
  },
  {
   "cell_type": "markdown",
   "metadata": {},
   "source": [
    "## Normal Probability Distribution"
   ]
  },
  {
   "cell_type": "markdown",
   "metadata": {},
   "source": [
    "${f(x)} = \\frac{1}{\\sqrt(2\\pi\\sigma)}e^{\\frac{(x/\\mu)^2}{2\\sigma}}$"
   ]
  },
  {
   "cell_type": "code",
   "execution_count": null,
   "metadata": {
    "scrolled": true
   },
   "outputs": [],
   "source": [
    "#Import library\n",
    "from scipy.stats import \n",
    "\n",
    "#Create figure\n",
    "fig, ax = plt.subplots(1, 1)\n",
    "\n",
    "#Define distribution parameters\t\n",
    "mu, sig = ,\n",
    "mu1, sig1 = , \n",
    "mu2, sig2 = , \n",
    "\n",
    "#Generate discrete random variables\n",
    "x = np.linspace(norm.ppf(0.01, , ), norm.ppf(0.99, , ), 100)\n",
    "x1 = np.linspace(norm.ppf(0.01, , ), norm.ppf(0.99, , ), 100)\n",
    "x2 =\n",
    "\n",
    "#Plotting x\n",
    "ax.plot(, norm.pdf(, , ), 'b-', lw=5, alpha=0.6, label='norm pdf')\n",
    "ax.plot(, norm.pdf(, , ), 'r-', lw=5, alpha=0.6, label='norm pdf')\n",
    "\n",
    "\n",
    "#Generate random numbers and plotting\n",
    " = norm.rvs(size=1000, loc=, scale=)\n",
    "ax.hist(, density=True, histtype='stepfilled', alpha=0.2)\n",
    "\n",
    "#Define legend attributes and show figure\n",
    "ax.legend(loc='best', frameon=False)\n"
   ]
  },
  {
   "cell_type": "markdown",
   "metadata": {},
   "source": [
    "## Normal Standard Probability Distribution"
   ]
  },
  {
   "cell_type": "markdown",
   "metadata": {},
   "source": [
    "${Z} = \\frac{X-\\mu}{\\sigma}$"
   ]
  },
  {
   "cell_type": "code",
   "execution_count": null,
   "metadata": {
    "scrolled": false
   },
   "outputs": [],
   "source": [
    "#Import library\n",
    "from scipy.stats import \n",
    "\n",
    "#Create figure\n",
    "fig, ax = plt.subplots(1, 1)\n",
    "\n",
    "#Generate discrete random variables\n",
    " = np.linspace(norm.ppf(0.01), norm.ppf(0.99), )\n",
    "\n",
    "#Plotting x\n",
    "ax.plot(, norm.pdf(), 'r-', lw=5, alpha=0.6, label='norm pdf')\n",
    "\n",
    "#Generate random numbers and plotting\n",
    " = norm.rvs(size=1000)\n",
    "ax.hist(, density=True, histtype='stepfilled', alpha=0.2)\n",
    "\n",
    "#Define legend attributes and show figure\n",
    "ax.legend(loc='best', frameon=False)\n"
   ]
  },
  {
   "cell_type": "markdown",
   "metadata": {},
   "source": [
    "## Exponential Probability Distribution"
   ]
  },
  {
   "cell_type": "markdown",
   "metadata": {},
   "source": [
    "${f(x)} = \\lambda e^{-\\lambda x}$"
   ]
  },
  {
   "cell_type": "code",
   "execution_count": null,
   "metadata": {},
   "outputs": [],
   "source": [
    "#Import library\n",
    "from scipy.stats import \n",
    "\n",
    "#Create figure\n",
    "fig, ax = plt.subplots(1, 1)\n",
    "\n",
    "#Define distribution parameters\t\n",
    "#lam=2\n",
    "mu, sig = , \n",
    "mu1, sig1 = , \n",
    "mu2, sig2 = , \n",
    "\n",
    "#Generate discrete random variables\n",
    "x = np.linspace(expon.ppf(0.01, , ), expon.ppf(0.99, , ), )\n",
    "x1 = np.linspace(expon.ppf(0.01, , ), expon.ppf(0.99, , ), )\n",
    "x2 =\n",
    "\n",
    "#Plotting x\n",
    "ax.plot(, expon.pdf(, , ), 'r-', lw=5, alpha=0.6, label='expon pdf')\n",
    "\n",
    "ax.plot(, expon.pdf(, , ), 'c-', lw=5, alpha=0.6, label='expon pdf')\n",
    "\n",
    "#Generate random numbers and plotting\n",
    "=(size=, loc=, scale=)\n",
    "ax.hist(, density=True, histtype='stepfilled', alpha=0.2)\n",
    "\n",
    "#Define legend attributes and show figure\n",
    "ax.legend(loc='best', frameon=False)\n"
   ]
  }
 ],
 "metadata": {
  "kernelspec": {
   "display_name": "Python 3",
   "language": "python",
   "name": "python3"
  },
  "language_info": {
   "codemirror_mode": {
    "name": "ipython",
    "version": 3
   },
   "file_extension": ".py",
   "mimetype": "text/x-python",
   "name": "python",
   "nbconvert_exporter": "python",
   "pygments_lexer": "ipython3",
   "version": "3.8.5"
  },
  "toc": {
   "base_numbering": 1,
   "nav_menu": {},
   "number_sections": true,
   "sideBar": true,
   "skip_h1_title": false,
   "title_cell": "Table of Contents",
   "title_sidebar": "Contents",
   "toc_cell": false,
   "toc_position": {},
   "toc_section_display": true,
   "toc_window_display": true
  },
  "varInspector": {
   "cols": {
    "lenName": 16,
    "lenType": 16,
    "lenVar": 40
   },
   "kernels_config": {
    "python": {
     "delete_cmd_postfix": "",
     "delete_cmd_prefix": "del ",
     "library": "var_list.py",
     "varRefreshCmd": "print(var_dic_list())"
    },
    "r": {
     "delete_cmd_postfix": ") ",
     "delete_cmd_prefix": "rm(",
     "library": "var_list.r",
     "varRefreshCmd": "cat(var_dic_list()) "
    }
   },
   "types_to_exclude": [
    "module",
    "function",
    "builtin_function_or_method",
    "instance",
    "_Feature"
   ],
   "window_display": false
  }
 },
 "nbformat": 4,
 "nbformat_minor": 4
}